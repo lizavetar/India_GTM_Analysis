{
 "cells": [
  {
   "cell_type": "markdown",
   "id": "44c4a0e4",
   "metadata": {},
   "source": [
    "<h1><center>NDA Client GTM India</center></h1>\n",
    "<center>This workbook conducts data collection, cleaning, formatting, and upload for GTM analysis of Indian B2C market segment.<br>\n",
    "_______________________________________________________________________________________________________________</center>"
   ]
  },
  {
   "cell_type": "markdown",
   "id": "984e61b2",
   "metadata": {},
   "source": [
    "## Housekeeping\n",
    "We are going to use 2 main types of cells in Jupyter Notebook: <strong>Code</strong> and <strong>Markdown</strong> cells.\n",
    "<br><br>This cell is a markdown cell and can be used to describe methodology of the analysis outputs. Markdown cells are formatted using basic HTML.\n",
    "<br><br>For example, to make a heading you can use \\<h1>, \\</h1> or # foolowed by the space. Double click on this cell to see the syntax inside. \n",
    "<br><br>With the same logic you can use any <strong>tags</strong>. Magority of tags exists in pairs - opening and closing tag (just like the heading one). So if, for example, you want to make your text look bold you need you use \\<strong> tag. The final code will look like this \\<strong><strong>Your bold text</strong>\\</strong>.<br><br>Another important starter tag is \\<br> and it does not need a closing pair. \\<br> will act as an Enter and put the text after it to the next line.<br>\n",
    "\n",
    "In the Code cells any text startting with \\# is <strong>comments</strong>. They are not considered a part of the code by Python and can be used to explain the purpose of the following code.If you want to put a multuline comment (or skip some piece of code without deleting it) surround it by tripple quotes.Result will look similar to this:<br>\n",
    "<br>\n",
    "<center>'''Your<br>\n",
    "multiline<br>\n",
    "comment'''</center>\n",
    "<br>\n",
    "Some steps of the analysis should be done only ones and once completed should be commented out. For big chunks of code it can be handy to use multiline comment scrips (enclose your code in triple quotes) instead of commenting out every line.\n",
    "<center>_______________________________________________________________________________________________________________</center>"
   ]
  },
  {
   "cell_type": "markdown",
   "id": "33c874cf",
   "metadata": {},
   "source": [
    "## Establishing connection with MySQL\n",
    "The next block of code sells are importing packages and extablishing connection with MySQL.\n",
    "We are using AWS RDS to run our database on MySQL engine. Please note the credentials for extablishing the connection to the database.<br>\n",
    "- host =*Sensored*<br>\n",
    "- port = *Sensored*<br>\n",
    "- user = *Sensored*<br>\n",
    "- password = *Sensored*<br>\n",
    "- db = *Sensored*<br>\n",
    "\n",
    "Database schema can be edited in MySQL Workbench and through <strong>MySQL Python Connect (pymysql)</strong> and <strong>sqlalchemy</strong> packages. In this Notebook we are going to use sqlalchemy to write data to the AWS and MySQL Python Connect for data retrieving.<br><br>"
   ]
  },
  {
   "cell_type": "code",
   "execution_count": null,
   "id": "7ed06c6d",
   "metadata": {
    "ExecuteTime": {
     "end_time": "2022-06-16T18:29:10.756276Z",
     "start_time": "2022-06-16T18:29:09.413154Z"
    },
    "code_folding": [
     0
    ]
   },
   "outputs": [],
   "source": [
    "# general import statement\n",
    "\n",
    "import pandas as pd\n",
    "import numpy as np\n",
    "import geopandas as gpd\n",
    "import os\n",
    "import fiona\n",
    "import pymysql as sql\n",
    "import openpyxl\n",
    "from sqlalchemy import create_engine"
   ]
  },
  {
   "cell_type": "code",
   "execution_count": null,
   "id": "61cd5e53",
   "metadata": {
    "ExecuteTime": {
     "end_time": "2022-06-16T18:29:10.927125Z",
     "start_time": "2022-06-16T18:29:10.792014Z"
    },
    "code_folding": [
     0
    ]
   },
   "outputs": [],
   "source": [
    "#establishing a connection with MySQL Connector\n",
    "\n",
    "conn = sql.connect(host = #enter host name,\n",
    "                   port = #enter port number,\n",
    "                   user = #enter user,\n",
    "                   password = #enter password,\n",
    "                   db = #enter database name)"
   ]
  },
  {
   "cell_type": "code",
   "execution_count": null,
   "id": "d0cc08e8",
   "metadata": {
    "ExecuteTime": {
     "end_time": "2022-06-16T18:29:11.176345Z",
     "start_time": "2022-06-16T18:29:11.169363Z"
    },
    "code_folding": [
     0
    ]
   },
   "outputs": [],
   "source": [
    "#setting up a cursor (you \"Python-powered hand\" in MySQL)\n",
    "\n",
    "cursor=conn.cursor()"
   ]
  },
  {
   "cell_type": "code",
   "execution_count": null,
   "id": "eb76cbc5",
   "metadata": {
    "ExecuteTime": {
     "end_time": "2022-06-16T18:29:11.955524Z",
     "start_time": "2022-06-16T18:29:11.938623Z"
    },
    "code_folding": [
     0
    ]
   },
   "outputs": [],
   "source": [
    "#progress bars function definition\n",
    "\n",
    "def log_progress(sequence, every=None, size=None, name='Items'):\n",
    "    from ipywidgets import IntProgress, HTML, VBox\n",
    "    from IPython.display import display\n",
    "\n",
    "    is_iterator = False\n",
    "    if size is None:\n",
    "        try:\n",
    "            size = len(sequence)\n",
    "        except TypeError:\n",
    "            is_iterator = True\n",
    "    if size is not None:\n",
    "        if every is None:\n",
    "            if size <= 200:\n",
    "                every = 1\n",
    "            else:\n",
    "                every = int(size / 200)     # every 0.5%\n",
    "    else:\n",
    "        assert every is not None, 'sequence is iterator, set every'\n",
    "\n",
    "    if is_iterator:\n",
    "        progress = IntProgress(min=0, max=1, value=1)\n",
    "        progress.bar_style = 'info'\n",
    "    else:\n",
    "        progress = IntProgress(min=0, max=size, value=0)\n",
    "    label = HTML()\n",
    "    box = VBox(children=[label, progress])\n",
    "    display(box)\n",
    "\n",
    "    index = 0\n",
    "    try:\n",
    "        for index, record in enumerate(sequence, 1):\n",
    "            if index == 1 or index % every == 0:\n",
    "                if is_iterator:\n",
    "                    label.value = '{name}: {index} / ?'.format(\n",
    "                        name=name,\n",
    "                        index=index\n",
    "                    )\n",
    "                else:\n",
    "                    progress.value = index\n",
    "                    label.value = u'{name}: {index} / {size}'.format(\n",
    "                        name=name,\n",
    "                        index=index,\n",
    "                        size=size\n",
    "                    )\n",
    "            yield record\n",
    "    except:\n",
    "        progress.bar_style = 'danger'\n",
    "        raise\n",
    "    else:\n",
    "        progress.bar_style = 'success'\n",
    "        progress.value = index\n",
    "        label.value = \"{name}: {index}\".format(\n",
    "            name=name,\n",
    "            index=str(index or '?')\n",
    "        )"
   ]
  },
  {
   "cell_type": "code",
   "execution_count": null,
   "id": "5060b4b4",
   "metadata": {
    "ExecuteTime": {
     "end_time": "2022-06-16T18:29:12.420972Z",
     "start_time": "2022-06-16T18:29:12.400948Z"
    },
    "code_folding": [
     0
    ]
   },
   "outputs": [],
   "source": [
    "#working directory check (and some common commands)\n",
    "\n",
    "#os.getcwd()\n",
    "#os.chdir('..')"
   ]
  },
  {
   "cell_type": "markdown",
   "id": "6abca13e",
   "metadata": {},
   "source": [
    "<br><br>\n",
    "\n",
    "\n",
    "## Working with Maps\n",
    "In this section of the analysis we import and study maps to be used in the analysis. For everycountry of analysis at least 2 levels of granularity will be needed. We will use several binaryvariables and agregate them to continuous values on the higher level.<br>\n",
    "\n",
    "In case of India, we will be working with 2nd and 3rd administrative level maps. Results of the analysis will be aggregated and presented on the 2nd administrative level (Distcricts), but early section of the analysis will be based on 3rd (Subdistricts).\n",
    "\n",
    "- Level 0: India\n",
    "- Level 1: State\n",
    "- Level 2: Distctricts\n",
    "- Level 3: Subdistcricts"
   ]
  },
  {
   "cell_type": "code",
   "execution_count": null,
   "id": "cdd1ece7",
   "metadata": {
    "ExecuteTime": {
     "end_time": "2022-06-01T18:21:20.077316Z",
     "start_time": "2022-06-01T18:21:15.521865Z"
    },
    "code_folding": [
     0
    ]
   },
   "outputs": [],
   "source": [
    "#importing all the Statistical areas boundaries\n",
    "\n",
    "India_shp = gpd.read_file('ind_adm_shp/IND_adm4v4.shp')\n",
    "\n",
    "India_shp = India_shp.drop(['Subdt_LGD', 'Dist_LGD', 'State_LGD', 'JSID', 'layer', 'path'], axis = 1)\n",
    "\n",
    "India_shp['SD_CODE'] = India_shp['stcode11'] + India_shp['dtcode11'] + India_shp['sdtcode11']\n",
    "India_shp['D_CODE'] = India_shp['stcode11'] + India_shp['dtcode11']"
   ]
  },
  {
   "cell_type": "code",
   "execution_count": null,
   "id": "b3c81f40",
   "metadata": {
    "ExecuteTime": {
     "end_time": "2022-06-01T18:37:49.921696Z",
     "start_time": "2022-06-01T18:37:49.557186Z"
    },
    "code_folding": [
     0
    ]
   },
   "outputs": [],
   "source": [
    "#importing mobile circles\n",
    "M_circles = gpd.read_file('ind_adm_shp/Mobile circles.shp')\n",
    "\n",
    "M_circles = M_circles.drop(['Subdt_LGD', 'Dist_LGD', 'State_LGD', 'JSID', 'layer'], axis = 1)\n",
    "\n",
    "M_circles['SD_CODE'] = M_circles['stcode11'] + M_circles['dtcode11'] + M_circles['sdtcode11']\n",
    "M_circles['D_CODE'] = M_circles['stcode11'] + M_circles['dtcode11']"
   ]
  },
  {
   "cell_type": "markdown",
   "id": "e4c759e9",
   "metadata": {},
   "source": [
    "# Retail ISP (B2C)"
   ]
  },
  {
   "cell_type": "markdown",
   "id": "121495db",
   "metadata": {},
   "source": [
    "## Part 1:  Affordability\n",
    "Next block of code uses previous analysis of RWI distribution to constract affordability estimates for various scenarios. India has a significant difference between urban and rural income distribution and we will assume thta RWI is a mixture of two. In this case we use <strong>burr</strong> distribution for urban RWI distribution <strong>kstwobign</strong> for rural RWI distribution.<br><br>\n",
    "<strong>Burr</strong> has 4 parameters with following estimated values:<br> \n",
    "<strong>c:</strong> 24.1<br>\n",
    "<strong>d:</strong> 0.27<br>\n",
    "<strong>loc:</strong> -0.44<br>\n",
    "<strong>scale:</strong> 1.81<br>\n",
    "<br>\n",
    "<strong>Kstwobign</strong> has 2 parameters with following estimated values:<br> \n",
    "<strong>loc:</strong> -1.41<br>\n",
    "<strong>scale:</strong> 1.85<br>\n",
    "\n"
   ]
  },
  {
   "cell_type": "code",
   "execution_count": null,
   "id": "03ee44c6",
   "metadata": {
    "ExecuteTime": {
     "end_time": "2022-06-13T20:10:43.499903Z",
     "start_time": "2022-06-13T20:10:42.474114Z"
    },
    "code_folding": [
     0
    ]
   },
   "outputs": [],
   "source": [
    "#importing resulting distributions\n",
    "\n",
    "from scipy.stats import burr, kstwobign"
   ]
  },
  {
   "cell_type": "code",
   "execution_count": null,
   "id": "c2ff3e69",
   "metadata": {
    "ExecuteTime": {
     "end_time": "2022-06-13T20:10:44.525678Z",
     "start_time": "2022-06-13T20:10:43.532749Z"
    },
    "code_folding": [
     0
    ]
   },
   "outputs": [],
   "source": [
    "#rural/urban split tables\n",
    "\n",
    "R_U = pd.read_excel('Data/RURAL_URBAN.xlsx', converters={'CODE': str, 'D_CODE': str})"
   ]
  },
  {
   "cell_type": "code",
   "execution_count": null,
   "id": "0210bac9",
   "metadata": {
    "ExecuteTime": {
     "end_time": "2022-06-13T20:10:45.725316Z",
     "start_time": "2022-06-13T20:10:44.573813Z"
    },
    "code_folding": [
     0
    ]
   },
   "outputs": [],
   "source": [
    "#employment tables\n",
    "\n",
    "EMPL = pd.read_excel('Data/EMPL.xlsx', converters={'D_CODE': str})\n",
    "EMPL = EMPL[EMPL['Empl'] != 'Total']\n",
    "EMPL['Empl'] = EMPL['Empl'].replace('None', 0).astype(int)\n",
    "\n",
    "\n",
    "EMPL_U = EMPL[EMPL['T_R_U'] == 'Urban']\n",
    "EMPL_R = EMPL[EMPL['T_R_U'] == 'Rural']"
   ]
  },
  {
   "cell_type": "code",
   "execution_count": null,
   "id": "b0dce59c",
   "metadata": {
    "ExecuteTime": {
     "end_time": "2022-06-13T20:10:45.804345Z",
     "start_time": "2022-06-13T20:10:45.791456Z"
    },
    "code_folding": [
     0
    ]
   },
   "outputs": [],
   "source": [
    "#calculating weigted average number of employed per household\n",
    "\n",
    "EMPL_U['HH_PC'] = EMPL_U['HH_T'] / EMPL_U.groupby('D_CODE')['HH_T'].transform('sum')\n",
    "EMPL_U['N_EMPL'] = EMPL_U['HH_PC']*EMPL_U['Empl']\n",
    "\n",
    "EMPL_R['HH_PC'] = EMPL_R['HH_T'] / EMPL_R.groupby('D_CODE')['HH_T'].transform('sum')\n",
    "EMPL_R['N_EMPL'] = EMPL_R['HH_PC']*EMPL_R['Empl']"
   ]
  },
  {
   "cell_type": "code",
   "execution_count": null,
   "id": "ec263a6e",
   "metadata": {
    "ExecuteTime": {
     "end_time": "2022-06-13T20:10:48.563017Z",
     "start_time": "2022-06-13T20:10:48.539875Z"
    },
    "code_folding": [
     0
    ]
   },
   "outputs": [],
   "source": [
    "#grouping the results\n",
    "\n",
    "EMPL_U_G = EMPL_U.groupby('D_CODE', as_index = False).agg({'N_EMPL': 'sum'})\n",
    "EMPL_R_G = EMPL_R.groupby('D_CODE', as_index = False).agg({'N_EMPL': 'sum'})"
   ]
  },
  {
   "cell_type": "code",
   "execution_count": null,
   "id": "341d0f97",
   "metadata": {
    "ExecuteTime": {
     "end_time": "2022-06-13T20:10:50.393455Z",
     "start_time": "2022-06-13T20:10:50.374860Z"
    },
    "code_folding": [
     0
    ]
   },
   "outputs": [],
   "source": [
    "#replacing missing data\n",
    "\n",
    "EMPL_U_G['N_EMPL'] = EMPL_U_G['N_EMPL'].replace(0,1.5)\n",
    "EMPL_R_G['N_EMPL'] = EMPL_R_G['N_EMPL'].replace(0,1.5)"
   ]
  },
  {
   "cell_type": "code",
   "execution_count": null,
   "id": "eae5ff78",
   "metadata": {
    "ExecuteTime": {
     "end_time": "2022-06-13T20:10:51.746292Z",
     "start_time": "2022-06-13T20:10:51.732863Z"
    },
    "code_folding": [
     0
    ]
   },
   "outputs": [],
   "source": [
    "#merging with rural/urban split data (one to many merge)\n",
    "\n",
    "R_U_M = pd.merge(R_U, EMPL_R_G, on = 'D_CODE', how = 'outer')\n",
    "R_U_M = pd.merge(R_U_M, EMPL_U_G, on = 'D_CODE', how = 'outer', suffixes=('_R', '_U'))"
   ]
  },
  {
   "cell_type": "code",
   "execution_count": null,
   "id": "1b3e7b5f",
   "metadata": {
    "ExecuteTime": {
     "end_time": "2022-06-13T20:10:52.813502Z",
     "start_time": "2022-06-13T20:10:52.774840Z"
    },
    "code_folding": [
     0
    ]
   },
   "outputs": [],
   "source": [
    "#setting parameters\n",
    "GNI = 1920\n",
    "tax = 0.18\n",
    "price = [5,10,15,20,25]\n",
    "price = list(map(lambda x: x *(1+tax), price))\n",
    "sow = [0.03,0.04,0.05,0.06]\n",
    "\n",
    "HH_income = pd.DataFrame(columns = ['Scenario', 'HH_income'])\n",
    "for pr in price:\n",
    "    for s in sow:\n",
    "        x = (pr*12)/s\n",
    "\n",
    "        Scenario = '$' + str(pr/(1+tax))+'_'+str(s)\n",
    "        Income = x\n",
    "        d = {'Scenario': Scenario, 'HH_income': Income}\n",
    "        df = pd.DataFrame(data=d, index=[0])\n",
    "        HH_income = HH_income.append(df)\n",
    "        \n",
    "HH_income = HH_income.reset_index().drop(['index'],axis=1)"
   ]
  },
  {
   "cell_type": "code",
   "execution_count": null,
   "id": "c6790154",
   "metadata": {
    "ExecuteTime": {
     "end_time": "2022-06-13T20:10:54.456848Z",
     "start_time": "2022-06-13T20:10:54.411837Z"
    },
    "code_folding": [
     0
    ]
   },
   "outputs": [],
   "source": [
    "#calculation RWI\n",
    "columns = []\n",
    "for index, row in HH_income.iterrows():\n",
    "    col_name_U = 'RWI_U_'+ row['Scenario']\n",
    "    col_name_R = 'RWI_R_'+ row['Scenario']\n",
    "    R_U_M[col_name_U] = ((row['HH_income']/R_U_M['N_EMPL_U'])/GNI)-1\n",
    "    R_U_M[col_name_R] = ((row['HH_income']/R_U_M['N_EMPL_R'])/GNI)-1\n",
    "    columns.append([col_name_U,col_name_R])"
   ]
  },
  {
   "cell_type": "code",
   "execution_count": null,
   "id": "eb2e4548",
   "metadata": {
    "ExecuteTime": {
     "end_time": "2022-06-13T20:10:59.021585Z",
     "start_time": "2022-06-13T20:10:58.906894Z"
    },
    "code_folding": [
     0
    ]
   },
   "outputs": [],
   "source": [
    "#calculating affordability\n",
    "for index, col in R_U_M.iteritems():    \n",
    "    if index[:5] == 'RWI_U' or index[:5] == 'RWI_R':\n",
    "        col_name = 'Afford_HH_' + index[6:]\n",
    "        R_U_M[col_name] = 1-(R_U_M['Urban_PC']*burr.cdf(R_U_M[index], c=24.1, d=0.27, loc=-0.44, scale=1.81)+R_U_M['Rural_PC']*kstwobign.cdf(R_U_M[index], loc=-1.41, scale=1.85))    \n",
    "    else: \n",
    "        continue       "
   ]
  },
  {
   "cell_type": "code",
   "execution_count": null,
   "id": "9fba4bb9",
   "metadata": {
    "ExecuteTime": {
     "end_time": "2022-06-13T20:11:00.468049Z",
     "start_time": "2022-06-13T20:11:00.436670Z"
    },
    "code_folding": [
     0
    ]
   },
   "outputs": [],
   "source": [
    "# calculating deciles\n",
    "\n",
    "R_U_M['HH_INC_Q10'] = R_U_M['Urban_PC']*(burr.ppf(0.1, c=24.1, d=0.27, loc=-0.44, scale=1.81)+1)*GNI*R_U_M['N_EMPL_U']+R_U_M['Rural_PC']*(kstwobign.ppf(0.1, loc=-1.41, scale=1.85)+1)*GNI*R_U_M['N_EMPL_R']\n",
    "R_U_M['HH_INC_Q20'] = R_U_M['Urban_PC']*(burr.ppf(0.2, c=24.1, d=0.27, loc=-0.44, scale=1.81)+1)*GNI*R_U_M['N_EMPL_U']+R_U_M['Rural_PC']*(kstwobign.ppf(0.2, loc=-1.41, scale=1.85)+1)*GNI*R_U_M['N_EMPL_R']\n",
    "R_U_M['HH_INC_Q30'] = R_U_M['Urban_PC']*(burr.ppf(0.3, c=24.1, d=0.27, loc=-0.44, scale=1.81)+1)*GNI*R_U_M['N_EMPL_U']+R_U_M['Rural_PC']*(kstwobign.ppf(0.3, loc=-1.41, scale=1.85)+1)*GNI*R_U_M['N_EMPL_R']\n",
    "R_U_M['HH_INC_Q40'] = R_U_M['Urban_PC']*(burr.ppf(0.4, c=24.1, d=0.27, loc=-0.44, scale=1.81)+1)*GNI*R_U_M['N_EMPL_U']+R_U_M['Rural_PC']*(kstwobign.ppf(0.4, loc=-1.41, scale=1.85)+1)*GNI*R_U_M['N_EMPL_R']\n",
    "R_U_M['HH_INC_Q50'] = R_U_M['Urban_PC']*(burr.ppf(0.5, c=24.1, d=0.27, loc=-0.44, scale=1.81)+1)*GNI*R_U_M['N_EMPL_U']+R_U_M['Rural_PC']*(kstwobign.ppf(0.5, loc=-1.41, scale=1.85)+1)*GNI*R_U_M['N_EMPL_R']\n",
    "R_U_M['HH_INC_Q60'] = R_U_M['Urban_PC']*(burr.ppf(0.6, c=24.1, d=0.27, loc=-0.44, scale=1.81)+1)*GNI*R_U_M['N_EMPL_U']+R_U_M['Rural_PC']*(kstwobign.ppf(0.6, loc=-1.41, scale=1.85)+1)*GNI*R_U_M['N_EMPL_R']\n",
    "R_U_M['HH_INC_Q70'] = R_U_M['Urban_PC']*(burr.ppf(0.7, c=24.1, d=0.27, loc=-0.44, scale=1.81)+1)*GNI*R_U_M['N_EMPL_U']+R_U_M['Rural_PC']*(kstwobign.ppf(0.7, loc=-1.41, scale=1.85)+1)*GNI*R_U_M['N_EMPL_R']\n",
    "R_U_M['HH_INC_Q80'] = R_U_M['Urban_PC']*(burr.ppf(0.8, c=24.1, d=0.27, loc=-0.44, scale=1.81)+1)*GNI*R_U_M['N_EMPL_U']+R_U_M['Rural_PC']*(kstwobign.ppf(0.8, loc=-1.41, scale=1.85)+1)*GNI*R_U_M['N_EMPL_R']\n",
    "R_U_M['HH_INC_Q90'] = R_U_M['Urban_PC']*(burr.ppf(0.9, c=24.1, d=0.27, loc=-0.44, scale=1.81)+1)*GNI*R_U_M['N_EMPL_U']+R_U_M['Rural_PC']*(kstwobign.ppf(0.9, loc=-1.41, scale=1.85)+1)*GNI*R_U_M['N_EMPL_R']\n",
    "R_U_M['HH_INC_Q100'] = R_U_M['Urban_PC']*(burr.ppf(0.999, c=24.1, d=0.27, loc=-0.44, scale=1.81)+1)*GNI*R_U_M['N_EMPL_U']+R_U_M['Rural_PC']*(kstwobign.ppf(0.999, loc=-1.41, scale=1.85)+1)*GNI*R_U_M['N_EMPL_R']"
   ]
  },
  {
   "cell_type": "code",
   "execution_count": null,
   "id": "e4f3fca2",
   "metadata": {
    "ExecuteTime": {
     "end_time": "2022-06-13T20:11:00.623003Z",
     "start_time": "2022-06-13T20:11:00.594556Z"
    },
    "code_folding": [
     0
    ]
   },
   "outputs": [],
   "source": [
    "#rolling up to district level\n",
    "\n",
    "R_U_M['HH_PC'] = R_U_M['Total'] / R_U_M.groupby('D_CODE')['Total'].transform('sum')\n",
    "\n",
    "for index, col in R_U_M.iteritems():    \n",
    "    if index[:6] == 'Afford':\n",
    "        col_name = index + '_PC'\n",
    "        R_U_M[col_name] = R_U_M['HH_PC']*R_U_M[index]\n",
    "    else: \n",
    "        continue \n",
    "        \n",
    "R_U_M['HH_INC_Q10_PC'] = R_U_M['HH_PC']*R_U_M['HH_INC_Q10']\n",
    "R_U_M['HH_INC_Q20_PC'] = R_U_M['HH_PC']*R_U_M['HH_INC_Q20']\n",
    "R_U_M['HH_INC_Q30_PC'] = R_U_M['HH_PC']*R_U_M['HH_INC_Q30']\n",
    "R_U_M['HH_INC_Q40_PC'] = R_U_M['HH_PC']*R_U_M['HH_INC_Q40']\n",
    "R_U_M['HH_INC_Q50_PC'] = R_U_M['HH_PC']*R_U_M['HH_INC_Q50']\n",
    "R_U_M['HH_INC_Q60_PC'] = R_U_M['HH_PC']*R_U_M['HH_INC_Q60']\n",
    "R_U_M['HH_INC_Q70_PC'] = R_U_M['HH_PC']*R_U_M['HH_INC_Q70']\n",
    "R_U_M['HH_INC_Q80_PC'] = R_U_M['HH_PC']*R_U_M['HH_INC_Q80']\n",
    "R_U_M['HH_INC_Q90_PC'] = R_U_M['HH_PC']*R_U_M['HH_INC_Q90']\n",
    "R_U_M['HH_INC_Q100_PC'] = R_U_M['HH_PC']*R_U_M['HH_INC_Q100']\n"
   ]
  },
  {
   "cell_type": "code",
   "execution_count": null,
   "id": "d49abcea",
   "metadata": {
    "ExecuteTime": {
     "end_time": "2022-06-13T20:11:02.818081Z",
     "start_time": "2022-06-13T20:11:02.785787Z"
    },
    "code_folding": [
     0
    ]
   },
   "outputs": [],
   "source": [
    "#filtering by correct columns\n",
    "x = [1]\n",
    "x.extend(list(range(80,111)))\n",
    "R_U_G = R_U_M.iloc[:,x]\n",
    "\n",
    "afford = R_U_M.iloc[:,81:101].columns\n",
    "\n",
    "R_U_G = R_U_G.groupby('D_CODE', as_index = False).sum()\n",
    "\n",
    "afford = list(afford)"
   ]
  },
  {
   "cell_type": "code",
   "execution_count": null,
   "id": "e1695227",
   "metadata": {
    "ExecuteTime": {
     "end_time": "2022-05-31T20:18:25.884090Z",
     "start_time": "2022-05-31T20:18:25.869907Z"
    },
    "code_folding": [
     0
    ]
   },
   "outputs": [],
   "source": [
    "#sensitivity analysis for service price\n",
    "'''import matplotlib.pyplot as plt\n",
    "import seaborn as sns\n",
    "\n",
    "GNI = 1920\n",
    "\n",
    "SOW_low = 0.04\n",
    "empl_low = 1\n",
    "\n",
    "SOW_med = 0.06\n",
    "empl_med = 1.2\n",
    "\n",
    "SOW_high = 0.08\n",
    "empl_high = 1.8\n",
    "\n",
    "x_low = []\n",
    "y_low = []\n",
    "\n",
    "x_med = []\n",
    "y_med = []\n",
    "\n",
    "x_high = []\n",
    "y_high = []\n",
    "\n",
    "for i in range(101):\n",
    "    price = i\n",
    "    income = (price*12)/SOW_low/empl_low\n",
    "    RWI = income/GNI-1\n",
    "    prob = 0.8*burr.cdf(RWI, c=24.1, d=0.27, loc=-0.44, scale=1.81)+0.2*kstwobign.cdf(RWI, loc=-1.41, scale=1.85)\n",
    "    x_low.append(i)\n",
    "    y_low.append(1-prob)\n",
    "    \n",
    "for i in range(101):\n",
    "    price = i\n",
    "    income = (price*12)/SOW_med/empl_med\n",
    "    RWI = income/GNI-1\n",
    "    prob = 0.8*burr.cdf(RWI, c=24.1, d=0.27, loc=-0.44, scale=1.81)+0.2*kstwobign.cdf(RWI, loc=-1.41, scale=1.85)\n",
    "    x_med.append(i)\n",
    "    y_med.append(1-prob)\n",
    "        \n",
    "for i in range(101):\n",
    "    price = i\n",
    "    income = (price*12)/SOW_high/empl_high\n",
    "    RWI = income/GNI-1\n",
    "    prob = 0.8*burr.cdf(RWI, c=24.1, d=0.27, loc=-0.44, scale=1.81)+0.2*kstwobign.cdf(RWI, loc=-1.41, scale=1.85)\n",
    "    x_high.append(i)\n",
    "    y_high.append(1-prob)\n",
    "    \n",
    "sns.set(rc = {'figure.figsize':(15,8)})\n",
    "sns.set_theme(style=\"darkgrid\")\n",
    "sns.lineplot(x=x_low, y=y_low).set(title='Price sensitivity', xlabel = \"Service Price\", ylabel = \"Affordability\")\n",
    "sns.lineplot(x=x_med, y=y_med)\n",
    "sns.lineplot(x=x_high, y=y_high)\n",
    "plt.legend(labels=[\"4% share of wallet, 1 employed\",\"6% share of wallet, 1.2 employed\", \"8% share of wallet, 1.8 employed\"])'''"
   ]
  },
  {
   "cell_type": "code",
   "execution_count": null,
   "id": "8848e32f",
   "metadata": {
    "ExecuteTime": {
     "end_time": "2022-05-31T20:18:27.370468Z",
     "start_time": "2022-05-31T20:18:27.359661Z"
    },
    "code_folding": [
     0
    ]
   },
   "outputs": [],
   "source": [
    "#sensitivity analysis for share of wallet\n",
    "'''\n",
    "GNI = 1920\n",
    "\n",
    "price_low = 10\n",
    "empl_low = 1\n",
    "\n",
    "price_med = 15\n",
    "empl_med = 1.2\n",
    "\n",
    "price_high = 25\n",
    "empl_high = 1.8\n",
    "\n",
    "x_low = []\n",
    "y_low = []\n",
    "\n",
    "x_med = []\n",
    "y_med = []\n",
    "\n",
    "x_high = []\n",
    "y_high = []\n",
    "\n",
    "for i in np.arange(0, 0.5, 0.01):\n",
    "    SOW = i\n",
    "    income = (price_low*12)/SOW/empl_low\n",
    "    RWI = income/GNI-1\n",
    "    prob = 0.8*burr.cdf(RWI, c=24.1, d=0.27, loc=-0.44, scale=1.81)+0.2*kstwobign.cdf(RWI, loc=-1.41, scale=1.85)\n",
    "    x_low.append(i)\n",
    "    y_low.append(1-prob)\n",
    "    \n",
    "for i in np.arange(0, 0.5, 0.01):\n",
    "    SOW = i\n",
    "    income = (price_med*12)/SOW/empl_med\n",
    "    RWI = income/GNI-1\n",
    "    prob = 0.8*burr.cdf(RWI, c=24.1, d=0.27, loc=-0.44, scale=1.81)+0.2*kstwobign.cdf(RWI, loc=-1.41, scale=1.85)\n",
    "    x_med.append(i)\n",
    "    y_med.append(1-prob)\n",
    "    \n",
    "for i in np.arange(0, 0.5, 0.01):\n",
    "    SOW = i\n",
    "    income = (price_high*12)/SOW/empl_high\n",
    "    RWI = income/GNI-1\n",
    "    prob = 0.8*burr.cdf(RWI, c=24.1, d=0.27, loc=-0.44, scale=1.81)+0.2*kstwobign.cdf(RWI, loc=-1.41, scale=1.85)\n",
    "    x_high.append(i)\n",
    "    y_high.append(1-prob)\n",
    "    \n",
    "sns.set(rc = {'figure.figsize':(15,8)})\n",
    "sns.set_theme(style=\"darkgrid\")\n",
    "sns.lineplot(x=x_low, y=y_low).set(title='Share of wallet sensitivity', xlabel = \"Share of wallet\", ylabel = \"Affordability\")\n",
    "sns.lineplot(x=x_med, y=y_med)\n",
    "sns.lineplot(x=x_high, y=y_high)\n",
    "plt.legend(labels=[\"$10 service price, 1 employed\",\"$15 service price, 1.2 employed\", \"$25 service price, 1.8 employed\"])'''"
   ]
  },
  {
   "cell_type": "code",
   "execution_count": null,
   "id": "b0063bcb",
   "metadata": {
    "ExecuteTime": {
     "end_time": "2022-05-31T20:18:29.111728Z",
     "start_time": "2022-05-31T20:18:29.096126Z"
    },
    "code_folding": [
     0
    ]
   },
   "outputs": [],
   "source": [
    "#sensitivity analysis for number of employed people per household\n",
    "'''\n",
    "GNI = 1920\n",
    "\n",
    "price_low = 10\n",
    "SOW_low = 0.04\n",
    "\n",
    "price_med = 15\n",
    "SOW_med = 0.06\n",
    "\n",
    "price_high = 25\n",
    "SOW_high = 0.08\n",
    "\n",
    "x_low = []\n",
    "y_low = []\n",
    "\n",
    "x_med = []\n",
    "y_med = []\n",
    "\n",
    "x_high = []\n",
    "y_high = []\n",
    "\n",
    "for i in np.arange(1, 3, 0.1):\n",
    "    empl = i\n",
    "    income = (price_low*12)/SOW_low/empl\n",
    "    RWI = income/GNI-1\n",
    "    prob = 0.8*burr.cdf(RWI, c=24.1, d=0.27, loc=-0.44, scale=1.81)+0.2*kstwobign.cdf(RWI, loc=-1.41, scale=1.85)\n",
    "    x_low.append(i)\n",
    "    y_low.append(1-prob)\n",
    "    \n",
    "for i in np.arange(1, 3, 0.1):\n",
    "    empl = i\n",
    "    income = (price_med*12)/SOW_med/empl\n",
    "    RWI = income/GNI-1\n",
    "    prob = 0.8*burr.cdf(RWI, c=24.1, d=0.27, loc=-0.44, scale=1.81)+0.2*kstwobign.cdf(RWI, loc=-1.41, scale=1.85)\n",
    "    x_med.append(i)\n",
    "    y_med.append(1-prob)\n",
    "    \n",
    "for i in np.arange(1, 3, 0.1):\n",
    "    empl = i\n",
    "    income = (price_high*12)/SOW_high/empl\n",
    "    RWI = income/GNI-1\n",
    "    prob = 0.8*burr.cdf(RWI, c=24.1, d=0.27, loc=-0.44, scale=1.81)+0.2*kstwobign.cdf(RWI, loc=-1.41, scale=1.85)\n",
    "    x_high.append(i)\n",
    "    y_high.append(1-prob)\n",
    "    \n",
    "sns.set(rc = {'figure.figsize':(15,8)})\n",
    "sns.set_theme(style=\"darkgrid\")\n",
    "sns.lineplot(x=x_low, y=y_low).set(title='Share of wallet sensitivity', xlabel = \"# of employed\", ylabel = \"Affordability\")\n",
    "sns.lineplot(x=x_med, y=y_med)\n",
    "sns.lineplot(x=x_high, y=y_high)\n",
    "plt.legend(labels=[\"$10 service price, 4% share of wallet\",\"$15 service price, 6% share of wallet\", \"$25 service price, 8% share of wallet\"])'''"
   ]
  },
  {
   "cell_type": "markdown",
   "id": "af8e368f",
   "metadata": {},
   "source": [
    "## Part 2: Fixed and mobile speed tests\n",
    "<br>\n",
    "First part of the analysis is to construct a table containing Socio-Demographic and Speed test data. Follow the code below to see the analysis steps."
   ]
  },
  {
   "cell_type": "code",
   "execution_count": null,
   "id": "c7ab1729",
   "metadata": {
    "ExecuteTime": {
     "end_time": "2022-06-16T18:29:19.019439Z",
     "start_time": "2022-06-16T18:29:18.202127Z"
    },
    "code_folding": [
     0
    ]
   },
   "outputs": [],
   "source": [
    "# Uploading Mlab data (Subdistricts x Days of speed tests) (3 parts)\n",
    "\n",
    "Mlab_IND_Subdistrics_B2C = pd.read_csv('Data/Mlab_IND_B2C_p1.csv',converters={'SD_CODE': str}).append(pd.read_csv('Data/Mlab_IND_B2C_p2.csv',converters={'SD_CODE': str})).append(pd.read_csv('Data/Mlab_IND_B2C_p3.csv',converters={'SD_CODE': str}))\n"
   ]
  },
  {
   "cell_type": "code",
   "execution_count": null,
   "id": "8c8b52c4",
   "metadata": {
    "ExecuteTime": {
     "end_time": "2022-06-16T18:29:24.181586Z",
     "start_time": "2022-06-16T18:29:23.468488Z"
    },
    "code_folding": [
     0
    ]
   },
   "outputs": [],
   "source": [
    "#adding lost leading zero\n",
    "\n",
    "max_length_ID_1 = Mlab_IND_Subdistrics_B2C['SD_CODE'].map(len).max()\n",
    "Mlab_IND_Subdistrics_B2C['SD_CODE'] = Mlab_IND_Subdistrics_B2C['SD_CODE'].apply(lambda x: '0'*(max_length_ID_1 - len(x)) + x)"
   ]
  },
  {
   "cell_type": "code",
   "execution_count": null,
   "id": "048e8116",
   "metadata": {
    "ExecuteTime": {
     "end_time": "2022-06-16T18:29:26.635976Z",
     "start_time": "2022-06-16T18:29:26.474658Z"
    },
    "code_folding": [
     0
    ]
   },
   "outputs": [],
   "source": [
    "# Grouping Mlab data to arrive at aggregated measured of speed test attributes by Subdistrict\n",
    "\n",
    "Mlab_IND_Subdistrics_B2C_G = Mlab_IND_Subdistrics_B2C.groupby('SD_CODE', as_index = False).agg({'Mbps':  'median',\n",
    "                                                                   'download_MED':  'median',\n",
    "                                                                   'maxMbps':  'max',\n",
    "                                                                   'minMbps':  'min',\n",
    "                                                                   'number_speed_tests':  'sum',\n",
    "                                                                   'latency' : 'mean'})"
   ]
  },
  {
   "cell_type": "code",
   "execution_count": null,
   "id": "7f1a93e5",
   "metadata": {
    "ExecuteTime": {
     "end_time": "2022-06-16T18:55:07.077058Z",
     "start_time": "2022-06-16T18:55:07.049678Z"
    },
    "code_folding": [
     0
    ]
   },
   "outputs": [],
   "source": [
    "# Creating speed test \"buckets\"\n",
    "\n",
    "Mlab_IND_Subdistrics_B2C_G['2Mbps'] = (Mlab_IND_Subdistrics_B2C_G['download_MED'] > 2).astype(int)\n",
    "Mlab_IND_Subdistrics_B2C_G['5Mbps'] = (Mlab_IND_Subdistrics_B2C_G['download_MED'] > 5).astype(int)\n",
    "Mlab_IND_Subdistrics_B2C_G['10Mbps'] = (Mlab_IND_Subdistrics_B2C_G['download_MED'] > 10).astype(int)\n",
    "Mlab_IND_Subdistrics_B2C_G['15Mbps'] = (Mlab_IND_Subdistrics_B2C_G['download_MED'] > 15).astype(int)\n",
    "Mlab_IND_Subdistrics_B2C_G['20Mbps'] = (Mlab_IND_Subdistrics_B2C_G['download_MED'] > 20).astype(int)\n",
    "Mlab_IND_Subdistrics_B2C_G['25Mbps'] = (Mlab_IND_Subdistrics_B2C_G['download_MED'] > 25).astype(int)\n",
    "Mlab_IND_Subdistrics_B2C_G['50Mbps'] = (Mlab_IND_Subdistrics_B2C_G['download_MED'] > 50).astype(int)\n",
    "Mlab_IND_Subdistrics_B2C_G['100Mbps'] = (Mlab_IND_Subdistrics_B2C_G['download_MED'] > 100).astype(int)\n",
    "Mlab_IND_Subdistrics_B2C_G['400Mbps'] = (Mlab_IND_Subdistrics_B2C_G['download_MED'] > 400).astype(int)"
   ]
  },
  {
   "cell_type": "code",
   "execution_count": null,
   "id": "9469efe2",
   "metadata": {
    "ExecuteTime": {
     "end_time": "2022-06-16T18:55:47.106069Z",
     "start_time": "2022-06-16T18:55:26.091812Z"
    },
    "code_folding": [
     0
    ]
   },
   "outputs": [],
   "source": [
    "#importing 4G coverage data (not available)\n",
    "\n",
    "Vi_LTE = gpd.read_file('Data/Ookla/Results/Vi_LTE.shp')\n",
    "MTNL_LTE = gpd.read_file('Data/Ookla/Results/MTNL_LTE.shp')\n",
    "BSNL_LTE = gpd.read_file('Data/Ookla/Results/BSNL_LTE.shp')\n",
    "Airtel_LTE = gpd.read_file('Data/Ookla/Results/Airtel_LTE.shp')"
   ]
  },
  {
   "cell_type": "code",
   "execution_count": null,
   "id": "8bdae150",
   "metadata": {
    "ExecuteTime": {
     "end_time": "2022-06-16T18:55:48.751698Z",
     "start_time": "2022-06-16T18:55:48.399311Z"
    },
    "code_folding": [
     0
    ]
   },
   "outputs": [],
   "source": [
    "#data cleaning and column renaming\n",
    "\n",
    "Vi_LTE = Vi_LTE.drop(['Subdt_LGD', 'Dist_LGD', 'State_LGD', 'JSID', 'layer', 'path', 'geometry'], axis = 1).rename(columns={'area_Vi__1': 'area_Vi_PC'})\n",
    "MTNL_LTE = MTNL_LTE.drop(['Subdt_LGD', 'Dist_LGD', 'State_LGD', 'JSID', 'layer', 'path', 'geometry'], axis = 1).rename(columns={'area_MTNL_': 'area_MTNL_PC'})\n",
    "BSNL_LTE = BSNL_LTE.drop(['Subdt_LGD', 'Dist_LGD', 'State_LGD', 'JSID', 'layer', 'path', 'geometry'], axis = 1).rename(columns={'area_BSNL_': 'area_BSNL_PC'})\n",
    "Airtel_LTE = Airtel_LTE.drop(['Subdt_LGD', 'Dist_LGD', 'State_LGD', 'JSID', 'layer', 'path', 'geometry'], axis = 1).rename(columns={'area_Air_1': 'area_Airtel_PC'})"
   ]
  },
  {
   "cell_type": "code",
   "execution_count": null,
   "id": "a47e38cd",
   "metadata": {
    "ExecuteTime": {
     "end_time": "2022-06-16T18:55:49.187353Z",
     "start_time": "2022-06-16T18:55:49.128492Z"
    },
    "code_folding": [
     0
    ]
   },
   "outputs": [],
   "source": [
    "#merging all mobile operators\n",
    "mobile_coverage = pd.merge(Vi_LTE, MTNL_LTE[['SD_CODE', 'area_MTNL_PC']], on = 'SD_CODE', how = 'outer')\n",
    "mobile_coverage = pd.merge(mobile_coverage, BSNL_LTE[['SD_CODE', 'area_BSNL_PC']], on = 'SD_CODE', how = 'outer')\n",
    "mobile_coverage = pd.merge(mobile_coverage, Airtel_LTE[['SD_CODE', 'area_Airtel_PC']], on = 'SD_CODE', how = 'outer')"
   ]
  },
  {
   "cell_type": "code",
   "execution_count": null,
   "id": "5cc831ba",
   "metadata": {
    "ExecuteTime": {
     "end_time": "2022-06-16T23:13:18.282869Z",
     "start_time": "2022-06-16T23:13:15.701874Z"
    },
    "code_folding": [
     0
    ]
   },
   "outputs": [],
   "source": [
    "#Importing of demographic data and standartization of unique state/district/subdistrict codes\n",
    "\n",
    "DEM_STAT_IND_Subdistrics_B2C = pd.read_excel('Data/DEM_STAT_IND.xlsx')\n",
    "\n",
    "DEM_STAT_IND_Subdistrics_B2C['State_Code'] = DEM_STAT_IND_Subdistrics_B2C['State_Code'].astype(str)\n",
    "DEM_STAT_IND_Subdistrics_B2C['District_Code'] = DEM_STAT_IND_Subdistrics_B2C['District_Code'].astype(str)\n",
    "DEM_STAT_IND_Subdistrics_B2C['SubDistrict_Code'] = DEM_STAT_IND_Subdistrics_B2C['SubDistrict_Code'].astype(str)\n",
    "\n",
    "max_length_ID_1 = DEM_STAT_IND_Subdistrics_B2C['State_Code'].map(len).max()\n",
    "DEM_STAT_IND_Subdistrics_B2C['State_Code'] = DEM_STAT_IND_Subdistrics_B2C['State_Code'].apply(lambda x: '0'*(max_length_ID_1 - len(x)) + x)\n",
    "\n",
    "max_length_ID_2 = DEM_STAT_IND_Subdistrics_B2C['District_Code'].map(len).max()\n",
    "DEM_STAT_IND_Subdistrics_B2C['District_Code'] = DEM_STAT_IND_Subdistrics_B2C['District_Code'].apply(lambda x: '0'*(max_length_ID_2 - len(x)) + x)\n",
    "\n",
    "max_length_ID_3 = DEM_STAT_IND_Subdistrics_B2C['SubDistrict_Code'].map(len).max()\n",
    "DEM_STAT_IND_Subdistrics_B2C['SubDistrict_Code'] = DEM_STAT_IND_Subdistrics_B2C['SubDistrict_Code'].apply(lambda x: '0'*(max_length_ID_3 - len(x)) + x)\n",
    "\n",
    "DEM_STAT_IND_Subdistrics_B2C['SD_CODE'] = DEM_STAT_IND_Subdistrics_B2C['State_Code']+DEM_STAT_IND_Subdistrics_B2C['District_Code']+DEM_STAT_IND_Subdistrics_B2C['SubDistrict_Code']\n",
    "DEM_STAT_IND_Subdistrics_B2C['D_CODE'] = DEM_STAT_IND_Subdistrics_B2C['State_Code']+DEM_STAT_IND_Subdistrics_B2C['District_Code']"
   ]
  },
  {
   "cell_type": "code",
   "execution_count": null,
   "id": "dbdb62fe",
   "metadata": {
    "ExecuteTime": {
     "end_time": "2022-06-16T18:56:07.972572Z",
     "start_time": "2022-06-16T18:56:07.912935Z"
    },
    "code_folding": [
     0
    ]
   },
   "outputs": [],
   "source": [
    "#merging Mlab and Demographic data by Subdistrict code\n",
    "\n",
    "IND_Subdistrics_B2C = pd.merge(Mlab_IND_Subdistrics_B2C_G, DEM_STAT_IND_Subdistrics_B2C, on = 'SD_CODE', how = 'outer')\n",
    "IND_Subdistrics_B2C = pd.merge(IND_Subdistrics_B2C, mobile_coverage, on = 'SD_CODE', how = 'outer')"
   ]
  },
  {
   "cell_type": "code",
   "execution_count": null,
   "id": "1a2d023b",
   "metadata": {
    "ExecuteTime": {
     "end_time": "2022-06-16T23:15:07.100072Z",
     "start_time": "2022-06-16T23:15:07.070401Z"
    },
    "code_folding": [
     0
    ]
   },
   "outputs": [],
   "source": [
    "#weighting speed test metrics by number of households inside each subdistrict in relation to district\n",
    "\n",
    "IND_Subdistrics_B2C['HH_PC'] = IND_Subdistrics_B2C['HH_T'] / IND_Subdistrics_B2C.groupby('D_CODE')['HH_T'].transform('sum')\n",
    "\n",
    "IND_Subdistrics_B2C['AVG_MBPS'] = IND_Subdistrics_B2C['HH_PC']*IND_Subdistrics_B2C['Mbps']\n",
    "IND_Subdistrics_B2C['MED_MBPS'] = IND_Subdistrics_B2C['HH_PC']*IND_Subdistrics_B2C['download_MED']\n",
    "IND_Subdistrics_B2C['MAX_MED_MBPS'] = IND_Subdistrics_B2C['HH_PC']*IND_Subdistrics_B2C['maxMbps']\n",
    "\n",
    "IND_Subdistrics_B2C['2Mbps_PC'] = IND_Subdistrics_B2C['HH_PC']*IND_Subdistrics_B2C['2Mbps']\n",
    "IND_Subdistrics_B2C['5Mbps_PC'] = IND_Subdistrics_B2C['HH_PC']*IND_Subdistrics_B2C['5Mbps']\n",
    "IND_Subdistrics_B2C['10Mbps_PC'] = IND_Subdistrics_B2C['HH_PC']*IND_Subdistrics_B2C['10Mbps']\n",
    "IND_Subdistrics_B2C['15Mbps_PC'] = IND_Subdistrics_B2C['HH_PC']*IND_Subdistrics_B2C['15Mbps']\n",
    "IND_Subdistrics_B2C['20Mbps_PC'] = IND_Subdistrics_B2C['HH_PC']*IND_Subdistrics_B2C['20Mbps']\n",
    "IND_Subdistrics_B2C['25Mbps_PC'] = IND_Subdistrics_B2C['HH_PC']*IND_Subdistrics_B2C['25Mbps']\n",
    "IND_Subdistrics_B2C['50Mbps_PC'] = IND_Subdistrics_B2C['HH_PC']*IND_Subdistrics_B2C['50Mbps']\n",
    "IND_Subdistrics_B2C['100Mbps_PC'] = IND_Subdistrics_B2C['HH_PC']*IND_Subdistrics_B2C['100Mbps']\n",
    "IND_Subdistrics_B2C['400Mbps_PC'] = IND_Subdistrics_B2C['HH_PC']*IND_Subdistrics_B2C['400Mbps']\n",
    "\n",
    "IND_Subdistrics_B2C['area_Vi_cover_PC'] = IND_Subdistrics_B2C['HH_PC']*IND_Subdistrics_B2C['area_Vi_PC']\n",
    "IND_Subdistrics_B2C['area_MTNL_cover_PC'] = IND_Subdistrics_B2C['HH_PC']*IND_Subdistrics_B2C['area_MTNL_PC']\n",
    "IND_Subdistrics_B2C['area_BSNL_cover_PC'] = IND_Subdistrics_B2C['HH_PC']*IND_Subdistrics_B2C['area_BSNL_PC']\n",
    "IND_Subdistrics_B2C['area_Airtel_cover_PC'] = IND_Subdistrics_B2C['HH_PC']*IND_Subdistrics_B2C['area_Airtel_PC']"
   ]
  },
  {
   "cell_type": "code",
   "execution_count": null,
   "id": "945f6bd2",
   "metadata": {
    "ExecuteTime": {
     "end_time": "2022-06-16T23:15:09.485502Z",
     "start_time": "2022-06-16T23:15:09.461767Z"
    },
    "code_folding": [
     0
    ]
   },
   "outputs": [],
   "source": [
    "#groupling by district\n",
    "\n",
    "IND_Subdistrics_B2C_G = IND_Subdistrics_B2C.groupby('D_CODE', as_index = False).agg({'AVG_MBPS': 'sum',\n",
    "                                                                               'MED_MBPS' : 'sum',\n",
    "                                                                               'MAX_MED_MBPS' : 'sum',\n",
    "                                                                               'number_speed_tests': 'sum',\n",
    "                                                                               'latency' : 'mean',\n",
    "                                                                               '2Mbps_PC': 'sum',\n",
    "                                                                               '5Mbps_PC': 'sum',\n",
    "                                                                               '10Mbps_PC': 'sum',\n",
    "                                                                               '15Mbps_PC': 'sum',\n",
    "                                                                               '20Mbps_PC': 'sum',\n",
    "                                                                               '25Mbps_PC': 'sum',\n",
    "                                                                               '50Mbps_PC': 'sum',\n",
    "                                                                               '100Mbps_PC': 'sum',\n",
    "                                                                               '400Mbps_PC': 'sum',\n",
    "                                                                               'Population': 'sum',\n",
    "                                                                               'Inhabited Villages' : 'sum',\n",
    "                                                                               'Uninhabited Villages' : 'sum',\n",
    "                                                                               'Number of towns' : 'sum',\n",
    "                                                                               'HH_T' : 'sum',\n",
    "                                                                               'Area' : 'sum',\n",
    "                                                                               'PD' : 'mean',\n",
    "                                                                               'area_Vi_cover_PC': 'sum',\n",
    "                                                                               'area_MTNL_cover_PC': 'sum',\n",
    "                                                                               'area_BSNL_cover_PC': 'sum',\n",
    "                                                                               'area_Airtel_cover_PC': 'sum'})"
   ]
  },
  {
   "cell_type": "code",
   "execution_count": null,
   "id": "29f8dc0b",
   "metadata": {
    "ExecuteTime": {
     "end_time": "2022-05-26T23:10:43.436798Z",
     "start_time": "2022-05-26T23:10:43.423823Z"
    },
    "code_folding": [
     0
    ]
   },
   "outputs": [],
   "source": [
    "#uploading to the database\n",
    "\n",
    "#IND_Subdistrics_B2C_G.to_sql(name='IND_B2C', con=engine, if_exists = 'replace', chunksize = 10000, index=False)"
   ]
  },
  {
   "cell_type": "markdown",
   "id": "239252ad",
   "metadata": {},
   "source": [
    "## Part 3: Additional Data"
   ]
  },
  {
   "cell_type": "markdown",
   "id": "db913054",
   "metadata": {},
   "source": [
    "### MDUs"
   ]
  },
  {
   "cell_type": "code",
   "execution_count": null,
   "id": "7f9618c4",
   "metadata": {
    "ExecuteTime": {
     "end_time": "2022-06-13T20:11:41.569870Z",
     "start_time": "2022-06-13T20:11:28.699284Z"
    },
    "code_folding": [
     0
    ]
   },
   "outputs": [],
   "source": [
    "#importing & preperation of MDU data\n",
    "\n",
    "MDU = pd.read_excel('Data/MDU Data.xlsx', sheet_name = \"Ownership\", converters = ({'ST_CODE': str, 'D_CODE': str}))\n",
    "\n",
    "max_length_ID_1 = MDU['ST_CODE'].map(len).max()\n",
    "MDU['ST_CODE'] = MDU['ST_CODE'].apply(lambda x: '0'*(max_length_ID_1 - len(x)) + x)\n",
    "\n",
    "max_length_ID_2 = MDU['D_CODE'].map(len).max()\n",
    "MDU['D_CODE'] = MDU['D_CODE'].apply(lambda x: '0'*(max_length_ID_2 - len(x)) + x)\n",
    "\n",
    "MDU['CODE'] = MDU['ST_CODE'] + MDU['D_CODE']"
   ]
  },
  {
   "cell_type": "code",
   "execution_count": null,
   "id": "4e38971e",
   "metadata": {
    "ExecuteTime": {
     "end_time": "2022-06-13T20:11:42.050315Z",
     "start_time": "2022-06-13T20:11:41.990829Z"
    },
    "code_folding": [
     0
    ]
   },
   "outputs": [],
   "source": [
    "#filtering and dropping columns\n",
    "\n",
    "MDU_F = MDU[(MDU['T_R_U'] == 'Urban')&(MDU['OWN_STATUS'] == 'Rented')&(MDU['HH_SIZE'].isin(['1','2','3','4','5','6-8']))].drop(['4_ROOM', '5_ROOM', '6_ROOM'], axis = 1)\n",
    "HH_T = MDU[(MDU['T_R_U'] == 'Total')&(MDU['OWN_STATUS'] == 'Total')&(MDU['HH_SIZE'] == 'All Households')].drop(['STUDIO','1_ROOM','2_ROOM','3_ROOM','4_ROOM', '5_ROOM', '6_ROOM'], axis = 1)"
   ]
  },
  {
   "cell_type": "code",
   "execution_count": null,
   "id": "2216994a",
   "metadata": {
    "ExecuteTime": {
     "end_time": "2022-06-13T20:11:42.530455Z",
     "start_time": "2022-06-13T20:11:42.521464Z"
    },
    "code_folding": [
     0
    ]
   },
   "outputs": [],
   "source": [
    "#calculating total number of MDUs\n",
    "\n",
    "MDU_F['MDU_T'] = MDU_F['STUDIO']+MDU_F['1_ROOM']+MDU_F['2_ROOM']+MDU_F['3_ROOM']"
   ]
  },
  {
   "cell_type": "code",
   "execution_count": null,
   "id": "c0cf2d35",
   "metadata": {
    "ExecuteTime": {
     "end_time": "2022-06-13T20:11:42.966299Z",
     "start_time": "2022-06-13T20:11:42.951582Z"
    },
    "code_folding": [
     0
    ]
   },
   "outputs": [],
   "source": [
    "#aggregating to higher level\n",
    "\n",
    "MDU_F_G = MDU_F.groupby('CODE', as_index = False).agg({'MDU_T': 'sum'})"
   ]
  },
  {
   "cell_type": "code",
   "execution_count": null,
   "id": "4c5008e3",
   "metadata": {
    "ExecuteTime": {
     "end_time": "2022-06-13T20:11:43.428777Z",
     "start_time": "2022-06-13T20:11:43.414806Z"
    },
    "code_folding": [
     0
    ]
   },
   "outputs": [],
   "source": [
    "#calculating total number of households\n",
    "\n",
    "HH_T_G = HH_T.groupby('CODE', as_index = False).agg({'HH_T': 'sum'})"
   ]
  },
  {
   "cell_type": "code",
   "execution_count": null,
   "id": "20952894",
   "metadata": {
    "ExecuteTime": {
     "end_time": "2022-06-13T20:11:43.878088Z",
     "start_time": "2022-06-13T20:11:43.863060Z"
    },
    "code_folding": [
     0
    ]
   },
   "outputs": [],
   "source": [
    "#merging MDU with HH_T\n",
    "\n",
    "MDU_T = pd.merge(MDU_F_G, HH_T_G, on ='CODE', how = 'inner')"
   ]
  },
  {
   "cell_type": "code",
   "execution_count": null,
   "id": "6a832e9c",
   "metadata": {
    "ExecuteTime": {
     "end_time": "2022-06-13T20:11:44.359364Z",
     "start_time": "2022-06-13T20:11:44.344370Z"
    },
    "code_folding": [
     0
    ]
   },
   "outputs": [],
   "source": [
    "#calculating # of MDU per area\n",
    "\n",
    "MDU_T['MDU_PC'] = MDU_T['MDU_T']/MDU_T['HH_T']"
   ]
  },
  {
   "cell_type": "code",
   "execution_count": null,
   "id": "95e76c7e",
   "metadata": {
    "ExecuteTime": {
     "end_time": "2022-06-13T20:11:44.841860Z",
     "start_time": "2022-06-13T20:11:44.828852Z"
    },
    "code_folding": [
     0
    ]
   },
   "outputs": [],
   "source": [
    "#getting rid of HH_T\n",
    "\n",
    "MDU_T = MDU_T.drop(['HH_T'], axis = 1)"
   ]
  },
  {
   "cell_type": "markdown",
   "id": "59d8d07e",
   "metadata": {},
   "source": [
    "### HH expenditure"
   ]
  },
  {
   "cell_type": "code",
   "execution_count": null,
   "id": "3ce06bc1",
   "metadata": {
    "ExecuteTime": {
     "end_time": "2022-06-13T20:12:29.826024Z",
     "start_time": "2022-06-13T20:11:45.279139Z"
    },
    "code_folding": [
     0
    ]
   },
   "outputs": [],
   "source": [
    "#importing all expenditure records\n",
    "exp = pd.read_csv('data\\Expenditure.txt', delimiter = \"\\t\", names=['v1_HHID',\\\n",
    "                                                                   'v2',\\\n",
    "                                                                   'v3',\\\n",
    "                                                                   'v4',\\\n",
    "                                                                   'v5',\\\n",
    "                                                                   'v6',\\\n",
    "                                                                   'v7_R_U',\\\n",
    "                                                                   'v8_ST_CODE',\\\n",
    "                                                                   'v9_ST_NAME',\\\n",
    "                                                                   'v10_D_NAME',\\\n",
    "                                                                   'v11',\\\n",
    "                                                                   'v12',\\\n",
    "                                                                   'v13',\\\n",
    "                                                                   'v14',\\\n",
    "                                                                   'v15',\\\n",
    "                                                                   'v16',\\\n",
    "                                                                   'v17',\\\n",
    "                                                                   'v18',\\\n",
    "                                                                   'v19',\\\n",
    "                                                                   'v20_ITEM_CODE',\\\n",
    "                                                                   'v21_SPEND_RSS',\\\n",
    "                                                                   'v22',\\\n",
    "                                                                   'v23',\\\n",
    "                                                                   'v24',\\\n",
    "                                                                   'v25',\\\n",
    "                                                                   'v26'], converters = ({'v8_ST_CODE': str}))\n",
    "\n",
    "exp_food = pd.read_csv('data\\Expenditure_MILK.txt', delimiter = \"\\t\", names=['v1',\\\n",
    "                                                                   'v2',\\\n",
    "                                                                   'v3',\\\n",
    "                                                                   'v4',\\\n",
    "                                                                   'v5',\\\n",
    "                                                                   'v6_R_U',\\\n",
    "                                                                   'v7_ST_CODE',\\\n",
    "                                                                   'v8',\\\n",
    "                                                                   'v9',\\\n",
    "                                                                   'v10',\\\n",
    "                                                                   'v11',\\\n",
    "                                                                   'v12',\\\n",
    "                                                                   'v13',\\\n",
    "                                                                   'v14',\\\n",
    "                                                                   'v15',\\\n",
    "                                                                   'v16',\\\n",
    "                                                                   'v17',\\\n",
    "                                                                   'v18',\\\n",
    "                                                                   'v19_ITEM_CODE',\\\n",
    "                                                                   'v20',\\\n",
    "                                                                   'v21',\\\n",
    "                                                                   'v22',\\\n",
    "                                                                   'v23_SPEND_RSS',\\\n",
    "                                                                   'v24',\\\n",
    "                                                                   'v25',\\\n",
    "                                                                   'v26',\\\n",
    "                                                                   'v27',\\\n",
    "                                                                   'v28_HHID',\\\n",
    "                                                                   'v29_ST_NAME',\\\n",
    "                                                                   'v30_D_NAME',\\\n",
    "                                                                   'v31',\\\n",
    "                                                                   'v32'], converters = ({'v7_ST_CODE': str}))\n",
    "\n",
    "exp_misc = pd.read_csv('data\\Expenditure_misc.txt', delimiter = \"\\t\", names=['v1',\\\n",
    "                                                                   'v2',\\\n",
    "                                                                   'v3',\\\n",
    "                                                                   'v4',\\\n",
    "                                                                   'v5',\\\n",
    "                                                                   'v6_R_U',\\\n",
    "                                                                   'v7_ST_CODE',\\\n",
    "                                                                   'v8',\\\n",
    "                                                                   'v9',\\\n",
    "                                                                   'v10',\\\n",
    "                                                                   'v11',\\\n",
    "                                                                   'v12',\\\n",
    "                                                                   'v13',\\\n",
    "                                                                   'v14',\\\n",
    "                                                                   'v15',\\\n",
    "                                                                   'v16',\\\n",
    "                                                                   'v17',\\\n",
    "                                                                   'v18',\\\n",
    "                                                                   'v19_ITEM_CODE',\\\n",
    "                                                                   'v20_SPEND_RSS',\\\n",
    "                                                                   'v21',\\\n",
    "                                                                   'v22',\\\n",
    "                                                                   'v23',\\\n",
    "                                                                   'v24_HHID',\\\n",
    "                                                                   'v25_ST_NAME',\\\n",
    "                                                                   'v26_D_NAME',\\\n",
    "                                                                   'v27',\\\n",
    "                                                                   'v28'], converters = ({'v7_ST_CODE': str}))\n",
    "\n",
    "exp_summary = pd.read_csv('data\\Expenditure_summary.txt', delimiter = \"\\t\", names=['v1',\\\n",
    "                                                                   'v2',\\\n",
    "                                                                   'v3',\\\n",
    "                                                                   'v4',\\\n",
    "                                                                   'v5',\\\n",
    "                                                                   'v6_R_U',\\\n",
    "                                                                   'v7_ST_CODE',\\\n",
    "                                                                   'v8',\\\n",
    "                                                                   'v9',\\\n",
    "                                                                   'v10',\\\n",
    "                                                                   'v11',\\\n",
    "                                                                   'v12',\\\n",
    "                                                                   'v13',\\\n",
    "                                                                   'v14',\\\n",
    "                                                                   'v15',\\\n",
    "                                                                   'v16',\\\n",
    "                                                                   'v17',\\\n",
    "                                                                   'v18',\\\n",
    "                                                                   'v19_ITEM_CODE',\\\n",
    "                                                                   'v20_SPEND_RSS',\\\n",
    "                                                                   'v21',\\\n",
    "                                                                   'v22',\\\n",
    "                                                                   'v23',\\\n",
    "                                                                   'v24_HHID',\\\n",
    "                                                                   'v25_ST_NAME',\\\n",
    "                                                                   'v26_D_NAME',\\\n",
    "                                                                   'v27',\\\n",
    "                                                                   'v28'], converters = ({'v7_ST_CODE': str}))"
   ]
  },
  {
   "cell_type": "code",
   "execution_count": null,
   "id": "f1b46284",
   "metadata": {
    "ExecuteTime": {
     "end_time": "2022-06-13T20:12:36.419946Z",
     "start_time": "2022-06-13T20:12:35.611816Z"
    },
    "code_folding": [
     0
    ]
   },
   "outputs": [],
   "source": [
    "#dropping useless columns\n",
    "exp = exp.drop(['v2','v3', 'v4', 'v5', 'v6', 'v11', 'v12', 'v13', 'v14', 'v15', 'v16', 'v17', 'v18', 'v19', 'v22', 'v23', 'v24', 'v25', 'v26'], axis = 1)\n",
    "exp_food = exp_food.drop(['v1', 'v2','v3', 'v4', 'v5', 'v8', 'v9', 'v10', 'v11', 'v12', 'v13', 'v14', 'v15', 'v16', 'v17', 'v18', 'v20', 'v21', 'v22', 'v24', 'v25', 'v26', 'v27', 'v31', 'v32'], axis = 1)\n",
    "exp_misc = exp_misc.drop(['v1', 'v2','v3', 'v4', 'v5', 'v8', 'v9', 'v10', 'v11', 'v12', 'v13', 'v14', 'v15', 'v16', 'v17', 'v18', 'v21', 'v22', 'v23', 'v27', 'v28'], axis = 1)\n",
    "exp_summary = exp_summary.drop(['v1', 'v2','v3', 'v4', 'v5', 'v8', 'v9', 'v10', 'v11', 'v12', 'v13', 'v14', 'v15', 'v16', 'v17', 'v18', 'v21', 'v22', 'v23', 'v27', 'v28'], axis = 1)"
   ]
  },
  {
   "cell_type": "code",
   "execution_count": null,
   "id": "4f6d589c",
   "metadata": {
    "ExecuteTime": {
     "end_time": "2022-06-13T20:12:42.988375Z",
     "start_time": "2022-06-13T20:12:37.029200Z"
    },
    "code_folding": [
     0
    ]
   },
   "outputs": [],
   "source": [
    "#expenditure on services 2015\n",
    "exp_R = exp[exp['v7_R_U']==1]\n",
    "exp_U = exp[exp['v7_R_U']==2]\n",
    "\n",
    "exp_R['v8_ST_CODE'] = exp_R['v8_ST_CODE'].str[:-1]\n",
    "exp_U['v8_ST_CODE'] = exp_U['v8_ST_CODE'].str[:-1]\n",
    "\n",
    "#expenditure on food 2011\n",
    "exp_food = exp_food[exp_food['v19_ITEM_CODE'].isin([129,159,169,179,189,199,219,239,249,269,279,289,299,309])]\n",
    "exp_food_R = exp_food[exp_food['v6_R_U']==1]\n",
    "exp_food_U = exp_food[exp_food['v6_R_U']==2]\n",
    "\n",
    "exp_food_R['v7_ST_CODE'] = exp_food_R['v7_ST_CODE'].str[:-1]\n",
    "exp_food_U['v7_ST_CODE'] = exp_food_U['v7_ST_CODE'].str[:-1]\n",
    "\n",
    "#expenditure on misc 2011\n",
    "exp_misc_R = exp_misc[exp_misc['v6_R_U']==1]\n",
    "exp_misc_U = exp_misc[exp_misc['v6_R_U']==2]\n",
    "\n",
    "exp_misc_R['v7_ST_CODE'] = exp_misc_R['v7_ST_CODE'].str[:-1]\n",
    "exp_misc_U['v7_ST_CODE'] = exp_misc_U['v7_ST_CODE'].str[:-1]\n",
    "\n",
    "exp_housing_R = exp_misc_R[exp_misc_R['v19_ITEM_CODE'].isin([520,522,523,539,540])]\n",
    "exp_taxes_R = exp_misc_R[exp_misc_R['v19_ITEM_CODE'].isin([541])]\n",
    "exp_extra_R = exp_misc_R[exp_misc_R['v19_ITEM_CODE'].isin([439,449,479,499])]\n",
    "exp_mobile_R = exp_misc_R[exp_misc_R['v19_ITEM_CODE'].isin([488])]\n",
    "exp_landline_R = exp_misc_R[exp_misc_R['v19_ITEM_CODE'].isin([487])]\n",
    "exp_internet_R = exp_misc_R[exp_misc_R['v19_ITEM_CODE'].isin([496])]\n",
    "\n",
    "exp_housing_U = exp_misc_U[exp_misc_U['v19_ITEM_CODE'].isin([520,522,523,539,540])]\n",
    "exp_taxes_U = exp_misc_U[exp_misc_U['v19_ITEM_CODE'].isin([541])]\n",
    "exp_extra_U = exp_misc_U[exp_misc_U['v19_ITEM_CODE'].isin([439,449,479,499])]\n",
    "exp_mobile_U = exp_misc_U[exp_misc_U['v19_ITEM_CODE'].isin([488])]\n",
    "exp_landline_U = exp_misc_U[exp_misc_U['v19_ITEM_CODE'].isin([487])]\n",
    "exp_internet_U = exp_misc_U[exp_misc_U['v19_ITEM_CODE'].isin([496])]\n",
    "\n",
    "#expenditure summary 2011\n",
    "exp_summary_R = exp_summary[exp_summary['v6_R_U']==1]\n",
    "exp_summary_U = exp_summary[exp_summary['v6_R_U']==2]\n",
    "\n",
    "exp_summary_R['v7_ST_CODE'] = exp_summary_R['v7_ST_CODE'].str[:-1]\n",
    "exp_summary_U['v7_ST_CODE'] = exp_summary_U['v7_ST_CODE'].str[:-1]"
   ]
  },
  {
   "cell_type": "code",
   "execution_count": null,
   "id": "e1102f36",
   "metadata": {
    "ExecuteTime": {
     "end_time": "2022-06-13T20:12:44.580857Z",
     "start_time": "2022-06-13T20:12:43.862914Z"
    },
    "code_folding": [
     0
    ]
   },
   "outputs": [],
   "source": [
    "#preparing TOTAL EXPENDITURE df\n",
    "exp_R_total = exp_summary_R.groupby(['v7_ST_CODE', 'v24_HHID'], as_index = False).agg({'v20_SPEND_RSS': 'sum'})\n",
    "exp_U_total = exp_summary_U.groupby(['v7_ST_CODE', 'v24_HHID'], as_index = False).agg({'v20_SPEND_RSS': 'sum'})\n",
    "\n",
    "exp_R_total = exp_R_total.groupby(['v7_ST_CODE']).agg({'v20_SPEND_RSS': 'median'})\n",
    "exp_U_total = exp_U_total.groupby(['v7_ST_CODE']).agg({'v20_SPEND_RSS': 'median'})\n",
    "\n",
    "exp_R_total['HH_R_EXP_T'] = exp_R_total['v20_SPEND_RSS']*0.013\n",
    "exp_U_total['HH_U_EXP_T'] = exp_U_total['v20_SPEND_RSS']*0.013\n",
    "\n",
    "exp_R_total = exp_R_total.drop(['v20_SPEND_RSS'], axis = 1)\n",
    "exp_U_total = exp_U_total.drop(['v20_SPEND_RSS'], axis = 1)"
   ]
  },
  {
   "cell_type": "code",
   "execution_count": null,
   "id": "df6a654f",
   "metadata": {
    "ExecuteTime": {
     "end_time": "2022-06-13T20:12:45.762808Z",
     "start_time": "2022-06-13T20:12:45.423336Z"
    },
    "code_folding": [
     0
    ]
   },
   "outputs": [],
   "source": [
    "#preparing FOOD EXPENDITURE df\n",
    "exp_food_R = exp_food_R.groupby(['v7_ST_CODE', 'v28_HHID'], as_index = False).agg({'v23_SPEND_RSS': 'sum'})\n",
    "exp_food_U = exp_food_U.groupby(['v7_ST_CODE', 'v28_HHID'], as_index = False).agg({'v23_SPEND_RSS': 'sum'})\n",
    "\n",
    "exp_food_R = exp_food_R.groupby(['v7_ST_CODE']).agg({'v23_SPEND_RSS': 'median'})\n",
    "exp_food_U = exp_food_U.groupby(['v7_ST_CODE']).agg({'v23_SPEND_RSS': 'median'})\n",
    "\n",
    "exp_food_R['HH_R_EXP_FOOD'] = exp_food_R['v23_SPEND_RSS']*0.013*12\n",
    "exp_food_U['HH_U_EXP_FOOD'] = exp_food_U['v23_SPEND_RSS']*0.013*12\n",
    "\n",
    "exp_food_R = exp_food_R.drop(['v23_SPEND_RSS'], axis = 1)\n",
    "exp_food_U = exp_food_U.drop(['v23_SPEND_RSS'], axis = 1)"
   ]
  },
  {
   "cell_type": "code",
   "execution_count": null,
   "id": "566333af",
   "metadata": {
    "ExecuteTime": {
     "end_time": "2022-06-13T20:12:46.790836Z",
     "start_time": "2022-06-13T20:12:46.670051Z"
    },
    "code_folding": [
     0
    ]
   },
   "outputs": [],
   "source": [
    "#preparing HOUSING EXPENDITURE df\n",
    "exp_housing_R = exp_housing_R.groupby(['v7_ST_CODE', 'v24_HHID'], as_index = False).agg({'v20_SPEND_RSS': 'sum'})\n",
    "exp_housing_U = exp_housing_U.groupby(['v7_ST_CODE', 'v24_HHID'], as_index = False).agg({'v20_SPEND_RSS': 'sum'})\n",
    "\n",
    "exp_housing_R = exp_housing_R.groupby(['v7_ST_CODE']).agg({'v20_SPEND_RSS': 'median'})\n",
    "exp_housing_U = exp_housing_U.groupby(['v7_ST_CODE']).agg({'v20_SPEND_RSS': 'median'})\n",
    "\n",
    "exp_housing_R['HH_R_EXP_HOUS'] = exp_housing_R['v20_SPEND_RSS']*0.013*12\n",
    "exp_housing_U['HH_U_EXP_HOUS'] = exp_housing_U['v20_SPEND_RSS']*0.013*12\n",
    "\n",
    "exp_housing_R = exp_housing_R.drop(['v20_SPEND_RSS'], axis = 1)\n",
    "exp_housing_U = exp_housing_U.drop(['v20_SPEND_RSS'], axis = 1)"
   ]
  },
  {
   "cell_type": "code",
   "execution_count": null,
   "id": "e39c6d22",
   "metadata": {
    "ExecuteTime": {
     "end_time": "2022-06-13T20:12:47.775594Z",
     "start_time": "2022-06-13T20:12:47.733249Z"
    },
    "code_folding": [
     0
    ]
   },
   "outputs": [],
   "source": [
    "#preparing TAXES EXPENDITURE df\n",
    "\n",
    "exp_taxes_R = exp_taxes_R.groupby(['v7_ST_CODE']).agg({'v20_SPEND_RSS': 'median'})\n",
    "exp_taxes_U = exp_taxes_U.groupby(['v7_ST_CODE']).agg({'v20_SPEND_RSS': 'median'})\n",
    "\n",
    "exp_taxes_R['HH_R_EXP_TAX'] = exp_taxes_R['v20_SPEND_RSS']*0.013*12\n",
    "exp_taxes_U['HH_U_EXP_TAX'] = exp_taxes_U['v20_SPEND_RSS']*0.013*12\n",
    "\n",
    "exp_taxes_R = exp_taxes_R.drop(['v20_SPEND_RSS'], axis = 1)\n",
    "exp_taxes_U = exp_taxes_U.drop(['v20_SPEND_RSS'], axis = 1)"
   ]
  },
  {
   "cell_type": "code",
   "execution_count": null,
   "id": "2f41e9cf",
   "metadata": {
    "ExecuteTime": {
     "end_time": "2022-06-13T20:12:48.911220Z",
     "start_time": "2022-06-13T20:12:48.694201Z"
    },
    "code_folding": [
     0
    ]
   },
   "outputs": [],
   "source": [
    "#preparing EXTRA EXPENDITURE df\n",
    "exp_extra_R = exp_extra_R.groupby(['v7_ST_CODE', 'v24_HHID'], as_index = False).agg({'v20_SPEND_RSS': 'sum'})\n",
    "exp_extra_U = exp_extra_U.groupby(['v7_ST_CODE', 'v24_HHID'], as_index = False).agg({'v20_SPEND_RSS': 'sum'})\n",
    "\n",
    "exp_extra_R = exp_extra_R.groupby(['v7_ST_CODE']).agg({'v20_SPEND_RSS': 'median'})\n",
    "exp_extra_U = exp_extra_U.groupby(['v7_ST_CODE']).agg({'v20_SPEND_RSS': 'median'})\n",
    "\n",
    "exp_extra_R['HH_R_EXP_EXTRA'] = exp_extra_R['v20_SPEND_RSS']*0.013*12\n",
    "exp_extra_U['HH_U_EXP_EXTRA'] = exp_extra_U['v20_SPEND_RSS']*0.013*12\n",
    "\n",
    "exp_extra_R = exp_extra_R.drop(['v20_SPEND_RSS'], axis = 1)\n",
    "exp_extra_U = exp_extra_U.drop(['v20_SPEND_RSS'], axis = 1)"
   ]
  },
  {
   "cell_type": "code",
   "execution_count": null,
   "id": "03100d1b",
   "metadata": {
    "ExecuteTime": {
     "end_time": "2022-06-13T20:12:49.864440Z",
     "start_time": "2022-06-13T20:12:49.819445Z"
    },
    "code_folding": [
     0
    ]
   },
   "outputs": [],
   "source": [
    "#preparing MOBILE EXPENDITURE df\n",
    "\n",
    "exp_mobile_R = exp_mobile_R.groupby(['v7_ST_CODE']).agg({'v20_SPEND_RSS': 'median'})\n",
    "exp_mobile_U = exp_mobile_U.groupby(['v7_ST_CODE']).agg({'v20_SPEND_RSS': 'median'})\n",
    "\n",
    "exp_mobile_R['HH_R_EXP_MOB'] = exp_mobile_R['v20_SPEND_RSS']*0.013*12\n",
    "exp_mobile_U['HH_U_EXP_MOB'] = exp_mobile_U['v20_SPEND_RSS']*0.013*12\n",
    "\n",
    "exp_mobile_R = exp_mobile_R.drop(['v20_SPEND_RSS'], axis = 1)\n",
    "exp_mobile_U = exp_mobile_U.drop(['v20_SPEND_RSS'], axis = 1)"
   ]
  },
  {
   "cell_type": "code",
   "execution_count": null,
   "id": "39cda6b6",
   "metadata": {
    "ExecuteTime": {
     "end_time": "2022-06-13T20:12:50.917556Z",
     "start_time": "2022-06-13T20:12:50.888514Z"
    },
    "code_folding": [
     0
    ]
   },
   "outputs": [],
   "source": [
    "#preparing LANDLINE EXPENDITURE df\n",
    "\n",
    "exp_landline_R = exp_landline_R.groupby(['v7_ST_CODE']).agg({'v20_SPEND_RSS': 'median'})\n",
    "exp_landline_U = exp_landline_U.groupby(['v7_ST_CODE']).agg({'v20_SPEND_RSS': 'median'})\n",
    "\n",
    "exp_landline_R['HH_R_EXP_LANDL'] = exp_landline_R['v20_SPEND_RSS']*0.013*12\n",
    "exp_landline_U['HH_U_EXP_LANDL'] = exp_landline_U['v20_SPEND_RSS']*0.013*12\n",
    "\n",
    "exp_landline_R = exp_landline_R.drop(['v20_SPEND_RSS'], axis = 1)\n",
    "exp_landline_U = exp_landline_U.drop(['v20_SPEND_RSS'], axis = 1)"
   ]
  },
  {
   "cell_type": "code",
   "execution_count": null,
   "id": "c34a250c",
   "metadata": {
    "ExecuteTime": {
     "end_time": "2022-06-13T20:12:51.849624Z",
     "start_time": "2022-06-13T20:12:51.820631Z"
    },
    "code_folding": [
     0
    ]
   },
   "outputs": [],
   "source": [
    "#preparing INTERNET EXPENDITURE df\n",
    "\n",
    "exp_internet_R = exp_internet_R.groupby(['v7_ST_CODE']).agg({'v20_SPEND_RSS': 'median'})\n",
    "exp_internet_U = exp_internet_U.groupby(['v7_ST_CODE']).agg({'v20_SPEND_RSS': 'median'})\n",
    "\n",
    "exp_internet_R['HH_R_EXP_INTER'] = exp_internet_R['v20_SPEND_RSS']*0.013*12\n",
    "exp_internet_U['HH_U_EXP_INTER'] = exp_internet_U['v20_SPEND_RSS']*0.013*12\n",
    "\n",
    "exp_internet_R = exp_internet_R.drop(['v20_SPEND_RSS'], axis = 1)\n",
    "exp_internet_U = exp_internet_U.drop(['v20_SPEND_RSS'], axis = 1)"
   ]
  },
  {
   "cell_type": "code",
   "execution_count": null,
   "id": "5ea42214",
   "metadata": {
    "ExecuteTime": {
     "end_time": "2022-06-13T20:12:52.694252Z",
     "start_time": "2022-06-13T20:12:52.680901Z"
    },
    "code_folding": [
     0
    ]
   },
   "outputs": [],
   "source": [
    "#merging together spending columns\n",
    "spend_2011 = pd.concat([exp_R_total, exp_food_R, exp_housing_R, exp_taxes_R, exp_extra_R, exp_mobile_R, exp_landline_R, exp_internet_R, exp_U_total, exp_food_U, exp_housing_U, exp_taxes_U, exp_extra_U, exp_mobile_U, exp_landline_U, exp_internet_U], join='outer', axis=1)"
   ]
  },
  {
   "cell_type": "code",
   "execution_count": null,
   "id": "436ec61b",
   "metadata": {
    "ExecuteTime": {
     "end_time": "2022-06-13T20:12:53.597493Z",
     "start_time": "2022-06-13T20:12:53.582433Z"
    },
    "code_folding": [
     0
    ]
   },
   "outputs": [],
   "source": [
    "#resetting index\n",
    "spend_2011.reset_index(inplace = True)"
   ]
  },
  {
   "cell_type": "code",
   "execution_count": null,
   "id": "302aa3ad",
   "metadata": {
    "ExecuteTime": {
     "end_time": "2022-06-13T20:12:54.512837Z",
     "start_time": "2022-06-13T20:12:54.483394Z"
    },
    "code_folding": [
     0
    ]
   },
   "outputs": [],
   "source": [
    "#creating % columns\n",
    "spend_2011['HH_R_EXP_FOOD_PC'] = spend_2011['HH_R_EXP_FOOD']/spend_2011['HH_R_EXP_T']\n",
    "spend_2011['HH_R_EXP_HOUS_PC'] = spend_2011['HH_R_EXP_HOUS']/spend_2011['HH_R_EXP_T']\n",
    "spend_2011['HH_R_EXP_TAX_PC'] = spend_2011['HH_R_EXP_TAX']/spend_2011['HH_R_EXP_T']\n",
    "spend_2011['HH_R_EXP_EXTRA_PC'] = spend_2011['HH_R_EXP_EXTRA']/spend_2011['HH_R_EXP_T']\n",
    "spend_2011['HH_R_EXP_MOB_PC'] = spend_2011['HH_R_EXP_MOB']/spend_2011['HH_R_EXP_T']\n",
    "spend_2011['HH_R_EXP_LANDL_PC'] = spend_2011['HH_R_EXP_LANDL']/spend_2011['HH_R_EXP_T']\n",
    "spend_2011['HH_R_EXP_INTER_PC'] = spend_2011['HH_R_EXP_INTER']/spend_2011['HH_R_EXP_T']\n",
    "\n",
    "spend_2011['HH_U_EXP_FOOD_PC'] = spend_2011['HH_U_EXP_FOOD']/spend_2011['HH_U_EXP_T']\n",
    "spend_2011['HH_U_EXP_HOUS_PC'] = spend_2011['HH_U_EXP_HOUS']/spend_2011['HH_U_EXP_T']\n",
    "spend_2011['HH_U_EXP_TAX_PC'] = spend_2011['HH_U_EXP_TAX']/spend_2011['HH_U_EXP_T']\n",
    "spend_2011['HH_U_EXP_EXTRA_PC'] = spend_2011['HH_U_EXP_EXTRA']/spend_2011['HH_U_EXP_T']\n",
    "spend_2011['HH_U_EXP_MOB_PC'] = spend_2011['HH_U_EXP_MOB']/spend_2011['HH_U_EXP_T']\n",
    "spend_2011['HH_U_EXP_LANDL_PC'] = spend_2011['HH_U_EXP_LANDL']/spend_2011['HH_U_EXP_T']\n",
    "spend_2011['HH_U_EXP_INTER_PC'] = spend_2011['HH_U_EXP_INTER']/spend_2011['HH_U_EXP_T']"
   ]
  },
  {
   "cell_type": "markdown",
   "id": "73c46c93",
   "metadata": {},
   "source": [
    "## Part 2b: Retail ISP (B2C) - Resulting Tables\n",
    "<br>\n",
    "Putting together excel table for Morgan"
   ]
  },
  {
   "cell_type": "code",
   "execution_count": null,
   "id": "c34b46f7",
   "metadata": {
    "ExecuteTime": {
     "end_time": "2022-06-13T20:12:55.477320Z",
     "start_time": "2022-06-13T20:12:55.448631Z"
    },
    "code_folding": [
     0
    ]
   },
   "outputs": [],
   "source": [
    "#merging everything for resulting tables\n",
    "Result = pd.merge(IND_Subdistrics_B2C_G, R_U_G, on = 'D_CODE', how = 'outer')\n",
    "Result = pd.merge(Result, MDU_T, left_on = 'D_CODE', right_on = 'CODE', how ='outer')\n",
    "Result['ST_CODE'] = Result['D_CODE'].str[:2]\n",
    "Result = pd.merge(Result, spend_2011, left_on = 'ST_CODE', right_on = 'v7_ST_CODE', how ='outer')\n",
    "Result['MDU_T'] = Result['MDU_PC']*Result['HH_T']"
   ]
  },
  {
   "cell_type": "code",
   "execution_count": null,
   "id": "4fce2a0b",
   "metadata": {
    "ExecuteTime": {
     "end_time": "2022-06-13T20:12:56.348394Z",
     "start_time": "2022-06-13T20:12:56.335433Z"
    },
    "code_folding": [
     0
    ]
   },
   "outputs": [],
   "source": [
    "#dropping useliss columns\n",
    "Result = Result.drop(['AVG_MBPS', 'MAX_MED_MBPS', 'latency', 'Inhabited Villages', 'Uninhabited Villages', 'Number of towns', 'CODE', 'v7_ST_CODE'], axis =1)"
   ]
  },
  {
   "cell_type": "code",
   "execution_count": null,
   "id": "30637e9a",
   "metadata": {
    "ExecuteTime": {
     "end_time": "2022-06-13T20:12:57.221117Z",
     "start_time": "2022-06-13T20:12:57.208473Z"
    },
    "code_folding": [
     0
    ]
   },
   "outputs": [],
   "source": [
    "#renaming according to agreed convention\n",
    "Result.rename(columns={'2Mbps_PC':'F_2Mbps_PC',\\\n",
    "                       '5Mbps_PC': 'F_5Mbps_PC',\\\n",
    "                       '10Mbps_PC': 'F_10Mbps_PC',\\\n",
    "                       '15Mbps_PC': 'F_15Mbps_PC',\\\n",
    "                       '20Mbps_PC': 'F_20Mbps_PC',\\\n",
    "                       '25Mbps_PC': 'F_25Mbps_PC',\\\n",
    "                       '50Mbps_PC': 'F_50Mbps_PC',\\\n",
    "                       '100Mbps_PC': 'F_100Mbps_PC',\\\n",
    "                       '400Mbps_PC': 'F_400Mbps_PC',\\\n",
    "                       'area_Vi_cover_PC': 'Vi_cover_PC',\\\n",
    "                       'area_MTNL_cover_PC': 'MTNL_cover_PC',\\\n",
    "                       'area_BSNL_cover_PC': 'BSNL_cover_PC',\\\n",
    "                       'area_Airtel_cover_PC': 'Airtel_cover_PC'},inplace=True)\n"
   ]
  },
  {
   "cell_type": "code",
   "execution_count": null,
   "id": "dffe47e9",
   "metadata": {
    "ExecuteTime": {
     "end_time": "2022-06-13T20:12:58.127710Z",
     "start_time": "2022-06-13T20:12:58.113748Z"
    },
    "code_folding": [
     0
    ]
   },
   "outputs": [],
   "source": [
    "#ensuring correct order\n",
    "lst = ['D_CODE',\\\n",
    "                 'Population',\\\n",
    "                 'HH_T',\\\n",
    "                 'Area',\\\n",
    "                 'PD',\\\n",
    "                 'MDU_T',\\\n",
    "                 'MDU_PC',\\\n",
    "                 'HH_INC_Q10_PC',\\\n",
    "                 'HH_INC_Q20_PC',\\\n",
    "                 'HH_INC_Q30_PC',\\\n",
    "                 'HH_INC_Q40_PC',\\\n",
    "                 'HH_INC_Q50_PC',\\\n",
    "                 'HH_INC_Q60_PC',\\\n",
    "                 'HH_INC_Q70_PC',\\\n",
    "                 'HH_INC_Q80_PC',\\\n",
    "                 'HH_INC_Q90_PC',\\\n",
    "                 'HH_INC_Q100_PC',\\\n",
    "                 'HH_R_EXP_T',\\\n",
    "                 'HH_R_EXP_FOOD',\\\n",
    "                 'HH_R_EXP_HOUS',\\\n",
    "                 'HH_R_EXP_TAX',\\\n",
    "                 'HH_R_EXP_EXTRA',\\\n",
    "                 'HH_R_EXP_MOB',\\\n",
    "                 'HH_R_EXP_LANDL',\\\n",
    "                 'HH_R_EXP_INTER',\\\n",
    "                 'HH_U_EXP_T',\\\n",
    "                 'HH_U_EXP_FOOD',\\\n",
    "                 'HH_U_EXP_HOUS',\\\n",
    "                 'HH_U_EXP_TAX',\\\n",
    "                 'HH_U_EXP_EXTRA',\\\n",
    "                 'HH_U_EXP_MOB',\\\n",
    "                 'HH_U_EXP_LANDL',\\\n",
    "                 'HH_U_EXP_INTER',\\\n",
    "                 'HH_R_EXP_FOOD_PC',\\\n",
    "                 'HH_R_EXP_HOUS_PC',\\\n",
    "                 'HH_R_EXP_TAX_PC',\\\n",
    "                 'HH_R_EXP_EXTRA_PC',\\\n",
    "                 'HH_R_EXP_MOB_PC',\\\n",
    "                 'HH_R_EXP_LANDL_PC',\\\n",
    "                 'HH_R_EXP_INTER_PC',\\\n",
    "                 'HH_U_EXP_FOOD_PC',\\\n",
    "                 'HH_U_EXP_HOUS_PC',\\\n",
    "                 'HH_U_EXP_TAX_PC',\\\n",
    "                 'HH_U_EXP_EXTRA_PC',\\\n",
    "                 'HH_U_EXP_MOB_PC',\\\n",
    "                 'HH_U_EXP_LANDL_PC',\\\n",
    "                 'HH_U_EXP_INTER_PC']\n",
    "\n",
    "lst.extend(afford)\n",
    "lst.extend(['MED_MBPS',\\\n",
    "                 'number_speed_tests',\\\n",
    "                 'F_2Mbps_PC',\\\n",
    "                 'F_5Mbps_PC',\\\n",
    "                 'F_10Mbps_PC',\\\n",
    "                 'F_15Mbps_PC',\\\n",
    "                 'F_20Mbps_PC',\\\n",
    "                 'F_25Mbps_PC',\\\n",
    "                 'F_50Mbps_PC',\\\n",
    "                 'F_100Mbps_PC',\\\n",
    "                 'F_400Mbps_PC',\\\n",
    "                 'Vi_cover_PC',\\\n",
    "                 'MTNL_cover_PC',\\\n",
    "                 'BSNL_cover_PC',\\\n",
    "                 'Airtel_cover_PC'])\n",
    "Result = Result[lst]"
   ]
  },
  {
   "cell_type": "code",
   "execution_count": null,
   "id": "8b92ae7c",
   "metadata": {
    "ExecuteTime": {
     "end_time": "2022-06-13T20:13:01.150426Z",
     "start_time": "2022-06-13T20:12:59.175800Z"
    }
   },
   "outputs": [],
   "source": [
    "#Result.to_sql(name='IND_B2C', con=engine, if_exists = 'replace', chunksize = 10000, index=False)"
   ]
  },
  {
   "cell_type": "code",
   "execution_count": null,
   "id": "1500644d",
   "metadata": {
    "ExecuteTime": {
     "end_time": "2022-06-13T20:14:00.383495Z",
     "start_time": "2022-06-13T20:13:57.901574Z"
    }
   },
   "outputs": [],
   "source": [
    "#Result = Result.to_excel('India Output.xlsx')"
   ]
  },
  {
   "cell_type": "markdown",
   "id": "5d9b2d70",
   "metadata": {},
   "source": [
    "# Appendix: Income level estimation\n",
    "The following income level estimation resulting in fitted distributions for rural and urban RWI attributes in India. This analysis is persormed only ones and once distributions are found, code is kept just for reference."
   ]
  },
  {
   "cell_type": "code",
   "execution_count": null,
   "id": "42623100",
   "metadata": {
    "ExecuteTime": {
     "end_time": "2022-05-26T23:12:25.756600Z",
     "start_time": "2022-05-26T23:12:25.744632Z"
    }
   },
   "outputs": [],
   "source": [
    "#Distribution = pd.read_excel('Distribution data.xlsx')"
   ]
  },
  {
   "cell_type": "code",
   "execution_count": null,
   "id": "6daac318",
   "metadata": {
    "ExecuteTime": {
     "end_time": "2022-05-26T23:12:25.771817Z",
     "start_time": "2022-05-26T23:12:25.758625Z"
    }
   },
   "outputs": [],
   "source": [
    "#Distribution = Distribution.drop(['ID' ,'X', 'Y'], axis = 1)\n",
    "#Distribution = Distribution.rename(columns={\"RWIRaster\": \"RWI\", \"indpd20201k\": \"POP\"})"
   ]
  },
  {
   "cell_type": "code",
   "execution_count": null,
   "id": "33dc949e",
   "metadata": {
    "ExecuteTime": {
     "end_time": "2022-05-26T23:12:25.787204Z",
     "start_time": "2022-05-26T23:12:25.775106Z"
    }
   },
   "outputs": [],
   "source": [
    "#Distribution_rural_5k = Distribution[Distribution['POP']<=5000]\n",
    "#Distribution_urban_5k = Distribution[Distribution['POP']>5000]"
   ]
  },
  {
   "cell_type": "code",
   "execution_count": null,
   "id": "34c64d84",
   "metadata": {
    "ExecuteTime": {
     "end_time": "2022-05-26T23:12:25.802372Z",
     "start_time": "2022-05-26T23:12:25.790200Z"
    }
   },
   "outputs": [],
   "source": [
    "#Distribution_rural_5k['POP'] = Distribution_rural_5k['POP'].round()\n",
    "#Distribution_urban_5k['POP'] = Distribution_urban_5k['POP'].round()"
   ]
  },
  {
   "cell_type": "code",
   "execution_count": null,
   "id": "11272d8c",
   "metadata": {
    "ExecuteTime": {
     "end_time": "2022-05-26T23:12:25.817708Z",
     "start_time": "2022-05-26T23:12:25.805776Z"
    }
   },
   "outputs": [],
   "source": [
    "#Distribution_rural_5k = Distribution_rural_5k.dropna()\n",
    "#Distribution_urban_5k = Distribution_urban_5k.dropna()"
   ]
  },
  {
   "cell_type": "code",
   "execution_count": null,
   "id": "8a245b2f",
   "metadata": {
    "ExecuteTime": {
     "end_time": "2022-05-26T23:12:25.833703Z",
     "start_time": "2022-05-26T23:12:25.820736Z"
    },
    "scrolled": true
   },
   "outputs": [],
   "source": [
    "'''rural_income_observation = []\n",
    "\n",
    "for index, row in Distribution_rural_5k.iterrows():\n",
    "    print(index)\n",
    "    count = row['POP']\n",
    "    while count > 0:\n",
    "        rural_income_observation.append(row['RWI'])\n",
    "        count = count-1'''"
   ]
  },
  {
   "cell_type": "code",
   "execution_count": null,
   "id": "f73f5c0c",
   "metadata": {
    "ExecuteTime": {
     "end_time": "2022-05-26T23:12:25.848694Z",
     "start_time": "2022-05-26T23:12:25.836745Z"
    }
   },
   "outputs": [],
   "source": [
    "'''urban_income_observation = []\n",
    "\n",
    "for index, row in Distribution_urban_5k.iterrows():\n",
    "    print(index)\n",
    "    count = row['POP']\n",
    "    while count > 0:\n",
    "        urban_income_observation.append(row['RWI'])\n",
    "        count = count-1'''"
   ]
  },
  {
   "cell_type": "code",
   "execution_count": null,
   "id": "d17f5109",
   "metadata": {
    "ExecuteTime": {
     "end_time": "2022-05-26T23:12:25.864651Z",
     "start_time": "2022-05-26T23:12:25.851775Z"
    }
   },
   "outputs": [],
   "source": [
    "#rural_income_observation_pd = pd.DataFrame(rural_income_observation)"
   ]
  },
  {
   "cell_type": "code",
   "execution_count": null,
   "id": "9307ec43",
   "metadata": {
    "ExecuteTime": {
     "end_time": "2022-05-26T23:12:25.879610Z",
     "start_time": "2022-05-26T23:12:25.867643Z"
    }
   },
   "outputs": [],
   "source": [
    "#urban_income_observation_pd = pd.DataFrame(urban_income_observation)"
   ]
  },
  {
   "cell_type": "code",
   "execution_count": null,
   "id": "e0aefaa7",
   "metadata": {
    "ExecuteTime": {
     "end_time": "2022-05-26T23:12:25.895569Z",
     "start_time": "2022-05-26T23:12:25.882603Z"
    }
   },
   "outputs": [],
   "source": [
    "#rural_income_observation_pd.to_csv('rural_income_observations.csv')"
   ]
  },
  {
   "cell_type": "code",
   "execution_count": null,
   "id": "b7ce7c52",
   "metadata": {
    "ExecuteTime": {
     "end_time": "2022-05-26T23:12:25.910329Z",
     "start_time": "2022-05-26T23:12:25.898561Z"
    }
   },
   "outputs": [],
   "source": [
    "#urban_income_observation_pd.to_csv('urban_income_observations.csv')"
   ]
  },
  {
   "cell_type": "code",
   "execution_count": null,
   "id": "019d0315",
   "metadata": {
    "ExecuteTime": {
     "end_time": "2022-05-26T23:12:25.925488Z",
     "start_time": "2022-05-26T23:12:25.912523Z"
    }
   },
   "outputs": [],
   "source": [
    "'''import seaborn as sns\n",
    "from fitter import Fitter, get_common_distributions, get_distributions\n",
    "\n",
    "def full_fit(data, distribution, timeout):\n",
    "\n",
    "    f = Fitter(data, distributions = distribution, timeout = None)\n",
    "    f.fit()\n",
    "    return f.summary()'''"
   ]
  },
  {
   "cell_type": "code",
   "execution_count": null,
   "id": "e9848c47",
   "metadata": {
    "ExecuteTime": {
     "end_time": "2022-05-26T23:12:25.940451Z",
     "start_time": "2022-05-26T23:12:25.928501Z"
    }
   },
   "outputs": [],
   "source": [
    "#urban_sample_1 = urban_income_observation_pd.sample(n = 250000)\n",
    "#urban_sample_2 = urban_income_observation_pd.sample(n = 250000)\n",
    "#urban_sample_3 = urban_income_observation_pd.sample(n = 250000)"
   ]
  },
  {
   "cell_type": "code",
   "execution_count": null,
   "id": "011ba6a9",
   "metadata": {
    "ExecuteTime": {
     "end_time": "2022-05-26T23:12:25.955736Z",
     "start_time": "2022-05-26T23:12:25.943440Z"
    }
   },
   "outputs": [],
   "source": [
    "#rural_sample_1 = rural_income_observation_pd.sample(n = 250000)\n",
    "#rural_sample_2 = rural_income_observation_pd.sample(n = 250000)\n",
    "#rural_sample_3 = rural_income_observation_pd.sample(n = 250000)"
   ]
  },
  {
   "cell_type": "code",
   "execution_count": null,
   "id": "a4bc9949",
   "metadata": {
    "ExecuteTime": {
     "end_time": "2022-05-26T23:12:25.971431Z",
     "start_time": "2022-05-26T23:12:25.959460Z"
    }
   },
   "outputs": [],
   "source": [
    "'''sns.set_style('white')\n",
    "sns.set_context(\"paper\", font_scale = 2)\n",
    "sns.displot(data=rural_sample_1, kind=\"hist\", bins = 100, aspect = 1.5)'''"
   ]
  },
  {
   "cell_type": "code",
   "execution_count": null,
   "id": "f7472126",
   "metadata": {
    "ExecuteTime": {
     "end_time": "2022-05-26T23:12:25.986486Z",
     "start_time": "2022-05-26T23:12:25.974420Z"
    }
   },
   "outputs": [],
   "source": [
    "'''sns.set_style('white')\n",
    "sns.set_context(\"paper\", font_scale = 2)\n",
    "sns.displot(data=rural_sample_2, kind=\"hist\", bins = 100, aspect = 1.5)'''"
   ]
  },
  {
   "cell_type": "code",
   "execution_count": null,
   "id": "d8141e6f",
   "metadata": {
    "ExecuteTime": {
     "end_time": "2022-05-26T23:12:26.001450Z",
     "start_time": "2022-05-26T23:12:25.989656Z"
    }
   },
   "outputs": [],
   "source": [
    "'''sns.set_style('white')\n",
    "sns.set_context(\"paper\", font_scale = 2)\n",
    "sns.displot(data=rural_sample_3, kind=\"hist\", bins = 100, aspect = 1.5)'''"
   ]
  },
  {
   "cell_type": "code",
   "execution_count": null,
   "id": "17916e39",
   "metadata": {
    "ExecuteTime": {
     "end_time": "2022-05-26T23:12:26.017237Z",
     "start_time": "2022-05-26T23:12:26.005472Z"
    }
   },
   "outputs": [],
   "source": [
    "'''sns.set_style('white')\n",
    "sns.set_context(\"paper\", font_scale = 2)\n",
    "sns.displot(data=urban_sample_1, kind=\"hist\", bins = 100, aspect = 1.5)'''"
   ]
  },
  {
   "cell_type": "code",
   "execution_count": null,
   "id": "b6f84c5e",
   "metadata": {
    "ExecuteTime": {
     "end_time": "2022-05-26T23:12:26.032367Z",
     "start_time": "2022-05-26T23:12:26.019401Z"
    }
   },
   "outputs": [],
   "source": [
    "'''sns.set_style('white')\n",
    "sns.set_context(\"paper\", font_scale = 2)\n",
    "sns.displot(data=urban_sample_2, kind=\"hist\", bins = 100, aspect = 1.5)'''"
   ]
  },
  {
   "cell_type": "code",
   "execution_count": null,
   "id": "f1e684f3",
   "metadata": {
    "ExecuteTime": {
     "end_time": "2022-05-26T23:12:26.047330Z",
     "start_time": "2022-05-26T23:12:26.035360Z"
    }
   },
   "outputs": [],
   "source": [
    "'''sns.set_style('white')\n",
    "sns.set_context(\"paper\", font_scale = 2)\n",
    "sns.displot(data=urban_sample_3, kind=\"hist\", bins = 100, aspect = 1.5)'''"
   ]
  },
  {
   "cell_type": "code",
   "execution_count": null,
   "id": "a5a39be6",
   "metadata": {
    "ExecuteTime": {
     "end_time": "2022-05-26T23:12:26.063284Z",
     "start_time": "2022-05-26T23:12:26.050711Z"
    }
   },
   "outputs": [],
   "source": [
    "#rural_RWI_1 = rural_sample_1.values\n",
    "#rural_RWI_2 = rural_sample_2.values\n",
    "#rural_RWI_3 = rural_sample_3.values\n",
    "\n",
    "#urban_RWI_1 = urban_sample_1.values\n",
    "#urban_RWI_2 = urban_sample_2.values\n",
    "#urban_RWI_3 = urban_sample_3.values"
   ]
  },
  {
   "cell_type": "code",
   "execution_count": null,
   "id": "ffb20d9a",
   "metadata": {
    "ExecuteTime": {
     "end_time": "2022-05-26T23:12:26.078760Z",
     "start_time": "2022-05-26T23:12:26.066277Z"
    }
   },
   "outputs": [],
   "source": [
    "#get_distributions()"
   ]
  },
  {
   "cell_type": "code",
   "execution_count": null,
   "id": "8d8d5a53",
   "metadata": {
    "ExecuteTime": {
     "end_time": "2022-05-26T23:12:26.094794Z",
     "start_time": "2022-05-26T23:12:26.081753Z"
    }
   },
   "outputs": [],
   "source": [
    "'''result = pd.DataFrame(columns = ['sumsquare_error', 'aic', 'bic', 'kl_div'])\n",
    "\n",
    "for distribution in log_progress(['t',\\\n",
    "                                  'trapezoid', 'trapz', 'triang', 'truncexpon', 'truncnorm', 'tukeylambda', 'uniform',\\\n",
    "                                  'vonmises', 'vonmises_line', 'wald', 'weibull_max', 'weibull_min', 'wrapcauchy']):\n",
    "    distribution = full_fit(urban_RWI_1, distribution, None)\n",
    "    result = result.append(distribution, ignore_index = True)\n",
    "    print(distribution)'''"
   ]
  },
  {
   "cell_type": "code",
   "execution_count": null,
   "id": "960af5c4",
   "metadata": {
    "ExecuteTime": {
     "end_time": "2022-05-26T23:12:26.109735Z",
     "start_time": "2022-05-26T23:12:26.096712Z"
    }
   },
   "outputs": [],
   "source": [
    "'''f = Fitter(rural_RWI_1, distributions = ['gausshyper'], timeout = None)\n",
    "f.fit()\n",
    "f.summary()\n",
    "f.get_best(method = 'sumsquare_error')'''"
   ]
  },
  {
   "cell_type": "code",
   "execution_count": null,
   "id": "4c234b9d",
   "metadata": {
    "ExecuteTime": {
     "end_time": "2022-05-26T23:12:26.125692Z",
     "start_time": "2022-05-26T23:12:26.112727Z"
    }
   },
   "outputs": [],
   "source": [
    "'''f = Fitter(rural_RWI_2, distributions = ['powernorm'], timeout = None)\n",
    "f.fit()\n",
    "f.summary()\n",
    "f.get_best(method = 'sumsquare_error')'''"
   ]
  },
  {
   "cell_type": "code",
   "execution_count": null,
   "id": "8d282ec8",
   "metadata": {
    "ExecuteTime": {
     "end_time": "2022-05-26T23:12:26.140966Z",
     "start_time": "2022-05-26T23:12:26.128702Z"
    }
   },
   "outputs": [],
   "source": [
    "'''f = Fitter(rural_RWI_3, distributions = ['powernorm'], timeout = None)\n",
    "f.fit()\n",
    "f.summary()\n",
    "f.get_best(method = 'sumsquare_error')'''"
   ]
  }
 ],
 "metadata": {
  "kernelspec": {
   "display_name": "Python 3 (ipykernel)",
   "language": "python",
   "name": "python3"
  },
  "language_info": {
   "codemirror_mode": {
    "name": "ipython",
    "version": 3
   },
   "file_extension": ".py",
   "mimetype": "text/x-python",
   "name": "python",
   "nbconvert_exporter": "python",
   "pygments_lexer": "ipython3",
   "version": "3.10.0"
  },
  "toc": {
   "base_numbering": 1,
   "nav_menu": {},
   "number_sections": true,
   "sideBar": true,
   "skip_h1_title": false,
   "title_cell": "Table of Contents",
   "title_sidebar": "Contents",
   "toc_cell": false,
   "toc_position": {},
   "toc_section_display": true,
   "toc_window_display": true
  },
  "varInspector": {
   "cols": {
    "lenName": 16,
    "lenType": 16,
    "lenVar": 40
   },
   "kernels_config": {
    "python": {
     "delete_cmd_postfix": "",
     "delete_cmd_prefix": "del ",
     "library": "var_list.py",
     "varRefreshCmd": "print(var_dic_list())"
    },
    "r": {
     "delete_cmd_postfix": ") ",
     "delete_cmd_prefix": "rm(",
     "library": "var_list.r",
     "varRefreshCmd": "cat(var_dic_list()) "
    }
   },
   "types_to_exclude": [
    "module",
    "function",
    "builtin_function_or_method",
    "instance",
    "_Feature"
   ],
   "window_display": false
  }
 },
 "nbformat": 4,
 "nbformat_minor": 5
}
